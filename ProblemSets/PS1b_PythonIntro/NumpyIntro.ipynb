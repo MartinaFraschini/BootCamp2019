{
 "cells": [
  {
   "cell_type": "markdown",
   "metadata": {},
   "source": [
    "# BootCamp 2019 - Week 1\n",
    "\n",
    "## PyIntro - Numpy Intro\n",
    "\n",
    "Author: Martina Fraschini"
   ]
  },
  {
   "cell_type": "code",
   "execution_count": 1,
   "metadata": {},
   "outputs": [],
   "source": [
    "# import packages\n",
    "import numpy as np"
   ]
  },
  {
   "cell_type": "markdown",
   "metadata": {},
   "source": [
    "### Problem 1"
   ]
  },
  {
   "cell_type": "code",
   "execution_count": 6,
   "metadata": {},
   "outputs": [
    {
     "name": "stdout",
     "output_type": "stream",
     "text": [
      "A * B =\n",
      "[[ 37  14 -32 -10]\n",
      " [-54  -7  58  65]]\n"
     ]
    }
   ],
   "source": [
    "# define matrices\n",
    "A = np.array([[3, -1, 4],[1, 5, -9]])\n",
    "B = np.array([[2, 6, -5, 3],[5, -8, 9, 7],[9, -3, -2, -3]])\n",
    "\n",
    "# compute multiplication\n",
    "multiplication = np.dot(A, B)\n",
    "print(\"A * B =\")\n",
    "print(multiplication)"
   ]
  },
  {
   "cell_type": "markdown",
   "metadata": {},
   "source": [
    "### Problem 2"
   ]
  },
  {
   "cell_type": "code",
   "execution_count": 9,
   "metadata": {},
   "outputs": [
    {
     "name": "stdout",
     "output_type": "stream",
     "text": [
      "[[0 0 0]\n",
      " [0 0 0]\n",
      " [0 0 0]]\n"
     ]
    }
   ],
   "source": [
    "# define matrix\n",
    "A = np.array([[3, 1, 4],[1, 5, 9],[-5, 3, 1]])\n",
    "\n",
    "# compute square and cube of matrix\n",
    "A2 = np.dot(A, A)\n",
    "A3 = np.dot(A2, A)\n",
    "\n",
    "result = - A3 + 9*A2 - 15*A\n",
    "print(result)"
   ]
  },
  {
   "cell_type": "markdown",
   "metadata": {},
   "source": [
    "### Problem 3"
   ]
  },
  {
   "cell_type": "code",
   "execution_count": 29,
   "metadata": {},
   "outputs": [
    {
     "name": "stdout",
     "output_type": "stream",
     "text": [
      "[[ -7  -8  -3   8  25  48  77]\n",
      " [ -6 -12 -12  -6   6  24  48]\n",
      " [ -5 -10 -15 -14  -7   6  25]\n",
      " [ -4  -8 -12 -16 -14  -6   8]\n",
      " [ -3  -6  -9 -12 -15 -12  -3]\n",
      " [ -2  -4  -6  -8 -10 -12  -8]\n",
      " [ -1  -2  -3  -4  -5  -6  -7]]\n"
     ]
    }
   ],
   "source": [
    "# define matrices\n",
    "A = np.ones((7,7))\n",
    "A = np.triu(A)\n",
    "\n",
    "B = np.full_like(A,-6)\n",
    "B = np.tril(B)\n",
    "B += 5\n",
    "\n",
    "# compute product\n",
    "AB = np.dot(A, B)\n",
    "prod = np.dot(AB, A)\n",
    "\n",
    "# change data type\n",
    "prod = prod.astype(np.int64)\n",
    "\n",
    "print(prod)"
   ]
  },
  {
   "cell_type": "markdown",
   "metadata": {},
   "source": [
    "### Problem 4"
   ]
  },
  {
   "cell_type": "code",
   "execution_count": 32,
   "metadata": {},
   "outputs": [
    {
     "name": "stdout",
     "output_type": "stream",
     "text": [
      "[1 4 0 9 3 0]\n"
     ]
    }
   ],
   "source": [
    "# define function\n",
    "def arrayfun(x):\n",
    "    y = np.copy(x)\n",
    "    mask = y < 0\n",
    "    y[mask] = 0\n",
    "    return y\n",
    "\n",
    "# demo for function\n",
    "a = np.array([1, 4, -7, 9, 3, -5])\n",
    "b = arrayfun(a)\n",
    "print(b)"
   ]
  },
  {
   "cell_type": "markdown",
   "metadata": {},
   "source": [
    "### Problem 5"
   ]
  },
  {
   "cell_type": "code",
   "execution_count": 58,
   "metadata": {},
   "outputs": [
    {
     "name": "stdout",
     "output_type": "stream",
     "text": [
      "[[ 0  0  0  0  1  1  0  0]\n",
      " [ 0  0  0  2  3  0  1  0]\n",
      " [ 0  0  0  4  5  0  0  1]\n",
      " [ 0  2  4  0  0  0  0  0]\n",
      " [ 1  3  5  0  0  0  0  0]\n",
      " [ 3  0  0  0  0 -2  0  0]\n",
      " [ 3  3  0  0  0  0 -2  0]\n",
      " [ 3  3  3  0  0  0  0 -2]]\n"
     ]
    }
   ],
   "source": [
    "# define matrices\n",
    "A = np.arange(6).reshape((3,2)).T\n",
    "\n",
    "B = np.full((3,3), 3)\n",
    "B = np.tril(B)\n",
    "\n",
    "C = np.diag(np.full(3,-2))\n",
    "\n",
    "# block matrix\n",
    "block1 = np.vstack((np.zeros((3,3)), A, B))\n",
    "block2 = np.vstack((A.T, np.zeros((5,2))))\n",
    "block3 = np.vstack((np.eye(3), np.zeros((2,3)), C))\n",
    "\n",
    "block = np.hstack((block1, block2, block3))\n",
    "\n",
    "print(block.astype(np.int64))"
   ]
  },
  {
   "cell_type": "markdown",
   "metadata": {},
   "source": [
    "### Problem 6"
   ]
  },
  {
   "cell_type": "code",
   "execution_count": 64,
   "metadata": {},
   "outputs": [
    {
     "name": "stdout",
     "output_type": "stream",
     "text": [
      "[[0.33333333 0.33333333 0.33333333]\n",
      " [1.         0.         0.        ]\n",
      " [0.25       0.25       0.5       ]]\n"
     ]
    }
   ],
   "source": [
    "# define funciton\n",
    "def row_stochastic(M):\n",
    "    rowsum = M.sum(axis=1).reshape((-1,1))\n",
    "    return M / rowsum\n",
    "\n",
    "# demo for function\n",
    "A = np.array([[1, 1, 1],[3, 0, 0],[1, 1, 2]])\n",
    "print(row_stochastic(A))"
   ]
  },
  {
   "cell_type": "markdown",
   "metadata": {},
   "source": [
    "### Problem 7"
   ]
  },
  {
   "cell_type": "code",
   "execution_count": 80,
   "metadata": {},
   "outputs": [
    {
     "name": "stdout",
     "output_type": "stream",
     "text": [
      "70600674\n"
     ]
    }
   ],
   "source": [
    "# load array\n",
    "grid = np.load(\"grid.npy\")\n",
    "\n",
    "right = np.max(grid[:,:-3] * grid[:,1:-2] * grid[:,2:-1] * grid[:,3:])\n",
    "down = np.max(grid[:-3,:] * grid[1:-2,:] * grid[2:-1,:] * grid[3:,:])\n",
    "diag_r = np.max(grid[:-3,:-3] * grid[1:-2,1:-2] * grid[2:-1,2:-1] * grid[3:,3:])\n",
    "diag_l = np.max(grid[:-3,3:] * grid[1:-2,2:-1] * grid[2:-1,1:-2] * grid[3:,:-3])\n",
    "\n",
    "winner = np.max((right, down, diag_r, diag_l))\n",
    "print(winner)"
   ]
  },
  {
   "cell_type": "code",
   "execution_count": null,
   "metadata": {},
   "outputs": [],
   "source": []
  }
 ],
 "metadata": {
  "kernelspec": {
   "display_name": "Python 3",
   "language": "python",
   "name": "python3"
  },
  "language_info": {
   "codemirror_mode": {
    "name": "ipython",
    "version": 3
   },
   "file_extension": ".py",
   "mimetype": "text/x-python",
   "name": "python",
   "nbconvert_exporter": "python",
   "pygments_lexer": "ipython3",
   "version": "3.6.3"
  }
 },
 "nbformat": 4,
 "nbformat_minor": 2
}
