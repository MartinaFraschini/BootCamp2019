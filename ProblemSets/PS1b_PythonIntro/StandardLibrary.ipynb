{
 "cells": [
  {
   "cell_type": "markdown",
   "metadata": {},
   "source": [
    "# BootCamp 2019 - Week 1\n",
    "\n",
    "## PyIntro - Standard Library\n",
    "\n",
    "Author: Martina Fraschini"
   ]
  },
  {
   "cell_type": "markdown",
   "metadata": {},
   "source": [
    "### Problem 1"
   ]
  },
  {
   "cell_type": "code",
   "execution_count": 5,
   "metadata": {},
   "outputs": [
    {
     "name": "stdout",
     "output_type": "stream",
     "text": [
      "1 6 3.5\n"
     ]
    }
   ],
   "source": [
    "# define function\n",
    "def myfunc(L):\n",
    "    return (min(L), max(L), sum(L)/len(L))\n",
    "\n",
    "# demo for the function\n",
    "(mymin, mymax, myaver) = myfunc([1, 2, 3, 4, 5, 6])\n",
    "print(mymin, mymax, myaver)"
   ]
  },
  {
   "cell_type": "markdown",
   "metadata": {},
   "source": [
    "### Problem 2"
   ]
  },
  {
   "cell_type": "code",
   "execution_count": 7,
   "metadata": {},
   "outputs": [
    {
     "data": {
      "text/plain": [
       "False"
      ]
     },
     "execution_count": 7,
     "metadata": {},
     "output_type": "execute_result"
    }
   ],
   "source": [
    "# experiment for int\n",
    "int1 = 1\n",
    "int2 = int1\n",
    "int2 = 2\n",
    "int1 == int2"
   ]
  },
  {
   "cell_type": "code",
   "execution_count": 8,
   "metadata": {},
   "outputs": [
    {
     "data": {
      "text/plain": [
       "False"
      ]
     },
     "execution_count": 8,
     "metadata": {},
     "output_type": "execute_result"
    }
   ],
   "source": [
    "# experiment for str\n",
    "str1 = 'hello'\n",
    "str2 = str1\n",
    "str2 = 'world'\n",
    "str1 == str2"
   ]
  },
  {
   "cell_type": "code",
   "execution_count": 9,
   "metadata": {},
   "outputs": [
    {
     "data": {
      "text/plain": [
       "True"
      ]
     },
     "execution_count": 9,
     "metadata": {},
     "output_type": "execute_result"
    }
   ],
   "source": [
    "# experiment for list\n",
    "list1 = [1, 2, 3, 4]\n",
    "list2 = list1\n",
    "list2[1] = 0\n",
    "list1 == list2"
   ]
  },
  {
   "cell_type": "code",
   "execution_count": 10,
   "metadata": {},
   "outputs": [
    {
     "data": {
      "text/plain": [
       "False"
      ]
     },
     "execution_count": 10,
     "metadata": {},
     "output_type": "execute_result"
    }
   ],
   "source": [
    "# experiment for tuple\n",
    "tuple1 = (1,2)\n",
    "tuple2 = tuple1\n",
    "tuple2 += (1,)\n",
    "tuple1 == tuple2"
   ]
  },
  {
   "cell_type": "code",
   "execution_count": 16,
   "metadata": {},
   "outputs": [
    {
     "data": {
      "text/plain": [
       "True"
      ]
     },
     "execution_count": 16,
     "metadata": {},
     "output_type": "execute_result"
    }
   ],
   "source": [
    "# experiment for set\n",
    "set1 = set([\"a\", \"b\",\"c\"])\n",
    "set2 = set1\n",
    "set2.add(\"d\")\n",
    "set1 == set2"
   ]
  },
  {
   "cell_type": "code",
   "execution_count": 18,
   "metadata": {},
   "outputs": [
    {
     "name": "stdout",
     "output_type": "stream",
     "text": [
      "The mutable objects are:\n",
      "- dict\n",
      "- list\n",
      "- set\n",
      "The immutable objects are:\n",
      "- int\n",
      "- str\n",
      "- tuple\n"
     ]
    }
   ],
   "source": [
    "# print statement\n",
    "print(\"\"\"The mutable objects are:\n",
    "- dict\n",
    "- list\n",
    "- set\n",
    "The immutable objects are:\n",
    "- int\n",
    "- str\n",
    "- tuple\"\"\")"
   ]
  },
  {
   "cell_type": "markdown",
   "metadata": {},
   "source": [
    "### Problem 3"
   ]
  },
  {
   "cell_type": "code",
   "execution_count": 23,
   "metadata": {},
   "outputs": [
    {
     "name": "stdout",
     "output_type": "stream",
     "text": [
      "5.0\n"
     ]
    }
   ],
   "source": [
    "# run custom module\n",
    "%run calculator.py\n",
    "\n",
    "# function for length of the hypotenuse\n",
    "def len_hypo(a,b):\n",
    "    # Pythagoras: a^2+b^2=c^2\n",
    "    c2 = sum2arg(prod2arg(a,a),prod2arg(b,b))\n",
    "    return sqrt(c2)\n",
    "\n",
    "# demo for the function\n",
    "x = 3\n",
    "y = 4\n",
    "z = len_hypo(x,y)\n",
    "print(z)"
   ]
  },
  {
   "cell_type": "markdown",
   "metadata": {},
   "source": [
    "### Problem 4"
   ]
  },
  {
   "cell_type": "code",
   "execution_count": 55,
   "metadata": {},
   "outputs": [
    {
     "name": "stdout",
     "output_type": "stream",
     "text": [
      "{'a', 'b', 'c'}\n",
      "[(), ('a',), ('b',), ('c',), ('a', 'b'), ('a', 'c'), ('b', 'c'), ('a', 'b', 'c')]\n"
     ]
    }
   ],
   "source": [
    "# import functions\n",
    "from itertools import combinations, chain\n",
    "\n",
    "# define function\n",
    "def power_set(A):\n",
    "    ps = combinations(A,0)\n",
    "    for i in range(len(A)):\n",
    "        ps = chain(ps, combinations(A,i+1))\n",
    "    return list(ps)\n",
    "\n",
    "# demo for the function\n",
    "A = set([\"a\", \"b\", \"c\"])\n",
    "print(A)\n",
    "P = power_set(A)\n",
    "print(P)"
   ]
  },
  {
   "cell_type": "markdown",
   "metadata": {},
   "source": [
    "### Problem 5"
   ]
  },
  {
   "cell_type": "code",
   "execution_count": 1,
   "metadata": {},
   "outputs": [
    {
     "name": "stdout",
     "output_type": "stream",
     "text": [
      "Numbers left:  [1, 2, 3, 4, 5, 6, 7, 8, 9]\n",
      "Roll:  7\n",
      "Seconds left:  30.0\n",
      "Numbers to eliminate: 7\n",
      "\n",
      "Numbers left:  [1, 2, 3, 4, 5, 6, 8, 9]\n",
      "Roll:  4\n",
      "Seconds left:  27.05\n",
      "Numbers to eliminate: 6\n",
      "Invalid input\n",
      "\n",
      "Seconds left:  24.42\n",
      "Numbers to eliminate: 1 3\n",
      "\n",
      "Numbers left:  [2, 4, 5, 6, 8, 9]\n",
      "Roll:  9\n",
      "Seconds left:  18.41\n",
      "Numbers to eliminate: 1 2 5\n",
      "Invalid input\n",
      "\n",
      "Seconds left:  13.02\n",
      "Numbers to eliminate: 4 5\n",
      "\n",
      "Numbers left:  [2, 6, 8, 9]\n",
      "Roll:  7\n",
      "Game over!\n",
      "\n",
      "Score for player  Marti :  25  points\n",
      "Time played:  23.26 seconds\n",
      "Better luck next time >:)\n"
     ]
    }
   ],
   "source": [
    "%run shut_the_box.py Marti 30"
   ]
  },
  {
   "cell_type": "code",
   "execution_count": 7,
   "metadata": {},
   "outputs": [
    {
     "name": "stdout",
     "output_type": "stream",
     "text": [
      "Numbers left:  [1, 2, 3, 4, 5, 6, 7, 8, 9]\n",
      "Roll:  9\n",
      "Seconds left:  10.0\n",
      "Numbers to eliminate: 9\n",
      "\n",
      "Numbers left:  [1, 2, 3, 4, 5, 6, 7, 8]\n",
      "Roll:  4\n",
      "Seconds left:  6.65\n",
      "Numbers to eliminate: 2 5\n",
      "Invalid input\n",
      "\n",
      "Seconds left:  2.46\n",
      "Numbers to eliminate: 4\n",
      "\n",
      "Numbers left:  [1, 2, 3, 5, 6, 7, 8]\n",
      "Roll:  7\n",
      "Seconds left:  0\n",
      "Time's up, game over!\n",
      "\n",
      "Score for player  Marti :  32  points\n",
      "Time played:  10 seconds\n",
      "Better luck next time >:)\n"
     ]
    }
   ],
   "source": [
    "%run shut_the_box.py Marti 10"
   ]
  },
  {
   "cell_type": "code",
   "execution_count": null,
   "metadata": {},
   "outputs": [],
   "source": []
  }
 ],
 "metadata": {
  "kernelspec": {
   "display_name": "Python 3",
   "language": "python",
   "name": "python3"
  },
  "language_info": {
   "codemirror_mode": {
    "name": "ipython",
    "version": 3
   },
   "file_extension": ".py",
   "mimetype": "text/x-python",
   "name": "python",
   "nbconvert_exporter": "python",
   "pygments_lexer": "ipython3",
   "version": "3.6.3"
  }
 },
 "nbformat": 4,
 "nbformat_minor": 2
}
