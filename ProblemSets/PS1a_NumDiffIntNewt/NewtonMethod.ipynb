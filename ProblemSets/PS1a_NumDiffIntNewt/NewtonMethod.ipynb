{
 "cells": [
  {
   "cell_type": "markdown",
   "metadata": {},
   "source": [
    "# BootCamp 2019 - Week 1\n",
    "\n",
    "## Newton's Method\n",
    "\n",
    "Author: Martina Fraschini"
   ]
  },
  {
   "cell_type": "code",
   "execution_count": 1,
   "metadata": {},
   "outputs": [],
   "source": [
    "# import packages\n",
    "import numpy as np\n",
    "from scipy import optimize\n",
    "from matplotlib import pyplot as plt"
   ]
  },
  {
   "cell_type": "markdown",
   "metadata": {},
   "source": [
    "### Problem 1"
   ]
  },
  {
   "cell_type": "code",
   "execution_count": 2,
   "metadata": {},
   "outputs": [
    {
     "name": "stdout",
     "output_type": "stream",
     "text": [
      "Newton's method converged to  1.3160740129543826 after  4 iterations\n"
     ]
    }
   ],
   "source": [
    "# define function for Newton's method\n",
    "def Newton(f, x0, f1, tol, maxiter):\n",
    "    conv = False\n",
    "    for n in range(maxiter):\n",
    "        x1 = x0 - f(x0)/f1(x0)\n",
    "        if abs(x1 - x0) < tol:\n",
    "            conv = True\n",
    "            break\n",
    "        x0 = x1\n",
    "    return (x1, conv, n)\n",
    "    \n",
    "# demo for the function\n",
    "tol = 10**(-5)\n",
    "maxiter = 15\n",
    "x0 = 1\n",
    "f = lambda x: x**4 - 3\n",
    "f1 = lambda x: 4*x**3\n",
    "\n",
    "(xbar, convergence, niter) = Newton(f, x0, f1, tol, maxiter)\n",
    "\n",
    "if convergence:\n",
    "    print(\"Newton's method converged to \", xbar, \"after \", niter, \"iterations\")\n",
    "else:\n",
    "    print(\"Newton's method didn't converge, the best guess is \", xbar)"
   ]
  },
  {
   "cell_type": "markdown",
   "metadata": {},
   "source": [
    "### Problem 3"
   ]
  },
  {
   "cell_type": "code",
   "execution_count": 3,
   "metadata": {},
   "outputs": [
    {
     "name": "stdout",
     "output_type": "stream",
     "text": [
      "Newton's method converged to  6.400000000000134e-07 after  5 iterations\n"
     ]
    }
   ],
   "source": [
    "# define function for Newton's method with backtracking\n",
    "def Newton_backtracking(f, x0, f1, tol, maxiter, alpha):\n",
    "    conv = False\n",
    "    for n in range(maxiter):\n",
    "        x1 = x0 - alpha * f(x0)/f1(x0)\n",
    "        if abs(x1 - x0) < tol:\n",
    "            conv = True\n",
    "            break\n",
    "        x0 = x1\n",
    "    return (x1, conv, n)\n",
    "    \n",
    "# demo for the function\n",
    "tol = 10**(-5)\n",
    "maxiter = 15\n",
    "x0 = .01\n",
    "alpha = .4\n",
    "f = lambda x: np.sign(x) * np.power(np.abs(x), 1./3)\n",
    "f1 = lambda x: (1./3) * np.power(np.abs(x), -2./3)\n",
    "\n",
    "(xbar, convergence, niter) = Newton_backtracking(f, x0, f1, tol, maxiter, alpha)\n",
    "\n",
    "if convergence:\n",
    "    print(\"Newton's method converged to \", xbar, \"after \", niter, \"iterations\")\n",
    "else:\n",
    "    print(\"Newton's method didn't converge, the best guess is \", xbar)"
   ]
  },
  {
   "cell_type": "markdown",
   "metadata": {},
   "source": [
    "### Problem 4"
   ]
  },
  {
   "cell_type": "code",
   "execution_count": 4,
   "metadata": {},
   "outputs": [
    {
     "data": {
      "image/png": "[encoded data removed]",
      "text/plain": [
       "<Figure size 432x288 with 1 Axes>"
      ]
     },
     "metadata": {},
     "output_type": "display_data"
    }
   ],
   "source": [
    "# define function for Newton's method with backtracking and different alphas\n",
    "def Newton_alpha(f, x0, f1, tol, maxiter):\n",
    "    alpha = np.linspace(0,1,11)\n",
    "    alpha = alpha[1:]\n",
    "    niter = np.zeros_like(alpha)\n",
    "    for i in range(len(alpha)):\n",
    "        for n in range(maxiter):\n",
    "            x1 = x0 - alpha[i] * f(x0)/f1(x0)\n",
    "            if abs(x1 - x0) < tol:\n",
    "                break\n",
    "            x0 = x1\n",
    "        niter[i] = n\n",
    "    \n",
    "    plt.plot(alpha, niter, 'o-')\n",
    "    plt.plot(alpha[np.argmin(niter)], min(niter), 'o')\n",
    "    plt.xlabel(r\"$\\alpha$\")\n",
    "    plt.ylabel(\"Number of iterations\")\n",
    "    plt.show()\n",
    "    return\n",
    "\n",
    "# demo for the function\n",
    "tol = 10**(-5)\n",
    "maxiter = 15\n",
    "x0 = .01\n",
    "f = lambda x: np.sign(x) * np.power(np.abs(x), 1./3)\n",
    "f1 = lambda x: (1./3) * np.power(np.abs(x), -2./3)\n",
    "\n",
    "Newton_alpha(f, x0, f1, tol, maxiter)\n",
    "\n"
   ]
  },
  {
   "cell_type": "markdown",
   "metadata": {},
   "source": [
    "### Problem 7"
   ]
  },
  {
   "cell_type": "code",
   "execution_count": 5,
   "metadata": {},
   "outputs": [
    {
     "data": {
      "image/png": "[encoded data removed]",
      "text/plain": [
       "<Figure size 432x288 with 1 Axes>"
      ]
     },
     "metadata": {},
     "output_type": "display_data"
    },
    {
     "data": {
      "image/png": "[encoded data removed]",
      "text/plain": [
       "<Figure size 432x288 with 1 Axes>"
      ]
     },
     "metadata": {},
     "output_type": "display_data"
    }
   ],
   "source": [
    "# define the function\n",
    "def complex_diff(a, b):\n",
    "    return np.sqrt((a.real-b.real)**2 + (a.imag-b.imag)**2)\n",
    "\n",
    "def Newton_fractal(f, f1, zeros, bounds, res, iters):\n",
    "    x_real = np.linspace(bounds[0],bounds[1],res)\n",
    "    x_imag = np.linspace(bounds[2],bounds[3],res)\n",
    "    X_real, X_imag = np.meshgrid(x_real, x_imag)\n",
    "    X_0 = X_real + 1j*X_imag\n",
    "    Y = np.zeros((res,res))\n",
    "    \n",
    "    for n in range(iters):\n",
    "        X_1 = X_0 - f(X_0)/f1(X_0)\n",
    "        X_0 = X_1\n",
    "        \n",
    "    for i in range(res):\n",
    "        for j in range(res):\n",
    "            err = np.zeros_like(zeros)\n",
    "            for k in range(len(zeros)):\n",
    "                err[k] = complex_diff(X_0[i,j],zeros[k])\n",
    "            Y[i,j] = np.argmin(err)\n",
    "\n",
    "    plt.pcolormesh(X_real, X_imag, Y, cmap='brg')\n",
    "    plt.show()\n",
    "    return\n",
    "\n",
    "# demo for function x^3-1\n",
    "f = lambda x: x**3 - 1\n",
    "f1 = lambda x: 3*x**2\n",
    "zeros = np.array([1, 0.5+(np.sqrt(3)/2)*1j, -0.5-(np.sqrt(3)/2)*1j])\n",
    "bounds = np.array([-1.5,1.5,-1.5,1.5])\n",
    "res = 500\n",
    "iters = 15\n",
    "\n",
    "Newton_fractal(f, f1, zeros, bounds, res, iters)\n",
    "\n",
    "# demo for function x^3-x\n",
    "f = lambda x: x**3 - x\n",
    "f1 = lambda x: 3*x**2 - 1\n",
    "zeros = np.array([-1, 0, 1])\n",
    "bounds = np.array([-1.5,1.5,-1.5,1.5])\n",
    "res = 500\n",
    "iters = 15\n",
    "\n",
    "Newton_fractal(f, f1, zeros, bounds, res, iters)\n"
   ]
  }
 ],
 "metadata": {
  "kernelspec": {
   "display_name": "Python 3",
   "language": "python",
   "name": "python3"
  },
  "language_info": {
   "codemirror_mode": {
    "name": "ipython",
    "version": 3
   },
   "file_extension": ".py",
   "mimetype": "text/x-python",
   "name": "python",
   "nbconvert_exporter": "python",
   "pygments_lexer": "ipython3",
   "version": "3.6.3"
  }
 },
 "nbformat": 4,
 "nbformat_minor": 2
}
