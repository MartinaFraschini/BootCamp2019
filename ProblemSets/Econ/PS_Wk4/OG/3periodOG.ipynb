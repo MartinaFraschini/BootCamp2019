{
 "cells": [
  {
   "cell_type": "markdown",
   "metadata": {},
   "source": [
    "# Overlapping Generation Model\n",
    "## 3-period-lived Agents with Exogenous Labor Supply\n",
    "\n",
    "\n",
    "Prof. Richard Evans\n",
    "\n",
    "Author: Martina Fraschini"
   ]
  },
  {
   "cell_type": "code",
   "execution_count": 1,
   "metadata": {},
   "outputs": [],
   "source": [
    "# import packages\n",
    "import numpy as np\n",
    "import time\n",
    "from matplotlib import pyplot as plt\n",
    "from scipy import optimize\n",
    "from math import sqrt"
   ]
  },
  {
   "cell_type": "markdown",
   "metadata": {},
   "source": [
    "### Exercise 2.1"
   ]
  },
  {
   "cell_type": "code",
   "execution_count": 2,
   "metadata": {},
   "outputs": [],
   "source": [
    "# define function feasible to check which contraints are violated\n",
    "def feasible(f_params, bvec_guess):\n",
    "    # unpack parameters\n",
    "    nvec, A, alpha, delta = f_params\n",
    "    \n",
    "    # aggregate capital and relative constraint\n",
    "    K = sum(bvec_guess)\n",
    "    K_cnstr = (K <= 0)\n",
    "    \n",
    "    # aggregate labor\n",
    "    L = sum(nvec)\n",
    "    \n",
    "    # interest rate\n",
    "    r = alpha * A * (L/K)**(1-alpha) - delta\n",
    "    \n",
    "    # wage rate\n",
    "    w = (1-alpha) * A * (K/L)**alpha\n",
    "    \n",
    "    # consumption and relative constraints\n",
    "    c1 = w * nvec[0] - bvec_guess[0]\n",
    "    c2 = w * nvec[1] + (1+r) * bvec_guess[0] - bvec_guess[1]\n",
    "    c3 = w * nvec[2] + (1+r) * bvec_guess[1]\n",
    "    c_cnstr = np.array([c1<=0, c2<=0, c3<=0])\n",
    "    \n",
    "    # savings constraints\n",
    "    b_cnstr = np.zeros((2,), dtype=bool)\n",
    "    if c_cnstr[0]:\n",
    "        b_cnstr[0] = True\n",
    "    if c_cnstr[1]:\n",
    "        b_cnstr[0] = True\n",
    "        b_cnstr[1] = True\n",
    "    if c_cnstr[2]:\n",
    "        b_cnstr[1] = True\n",
    "\n",
    "    return b_cnstr, c_cnstr, K_cnstr\n",
    "\n",
    "# define vector of parameters\n",
    "n = np.array([1, 1, .2])\n",
    "fparams = [n, 1, .35, .6415]"
   ]
  },
  {
   "cell_type": "markdown",
   "metadata": {},
   "source": [
    "Which, if any, of the constraints is violated if you choose an initial guess for steady-state savings of `bvec_guess = np.array([1.0, 1.2])`?"
   ]
  },
  {
   "cell_type": "code",
   "execution_count": 3,
   "metadata": {},
   "outputs": [
    {
     "name": "stdout",
     "output_type": "stream",
     "text": [
      "Capital constraint:  False\n",
      "Consumption constraints:  [ True False False]\n",
      "Savings constraints:  [ True False]\n"
     ]
    }
   ],
   "source": [
    "bvec = np.array([1.0, 1.2])\n",
    "b_check, c_check, K_check = feasible(fparams, bvec)\n",
    "\n",
    "print(\"Capital constraint: \", K_check)\n",
    "print(\"Consumption constraints: \", c_check)\n",
    "print(\"Savings constraints: \", b_check)"
   ]
  },
  {
   "cell_type": "markdown",
   "metadata": {},
   "source": [
    "Which, if any, of the constraints is violated if you choose an initial guess for steady-state savings of `bvec_guess = np.array([0.06, -0.001])`?"
   ]
  },
  {
   "cell_type": "code",
   "execution_count": 4,
   "metadata": {},
   "outputs": [
    {
     "name": "stdout",
     "output_type": "stream",
     "text": [
      "Capital constraint:  False\n",
      "Consumption constraints:  [False False False]\n",
      "Savings constraints:  [False False]\n"
     ]
    }
   ],
   "source": [
    "bvec = np.array([0.06, -0.001])\n",
    "b_check, c_check, K_check = feasible(fparams, bvec)\n",
    "\n",
    "print(\"Capital constraint: \", K_check)\n",
    "print(\"Consumption constraints: \", c_check)\n",
    "print(\"Savings constraints: \", b_check)"
   ]
  },
  {
   "cell_type": "markdown",
   "metadata": {},
   "source": [
    "Which, if any, of the constraints is violated if you choose an initial guess for steady-state savings of `bvec_guess = np.array([0.1, 0.1])`?"
   ]
  },
  {
   "cell_type": "code",
   "execution_count": 21,
   "metadata": {},
   "outputs": [
    {
     "name": "stdout",
     "output_type": "stream",
     "text": [
      "Capital constraint:  False\n",
      "Consumption constraints:  [False False False]\n",
      "Savings constraints:  [False False]\n"
     ]
    }
   ],
   "source": [
    "bvec = np.array([0.1, 0.1])\n",
    "b_check, c_check, K_check = feasible(fparams, bvec)\n",
    "\n",
    "print(\"Capital constraint: \", K_check)\n",
    "print(\"Consumption constraints: \", c_check)\n",
    "print(\"Savings constraints: \", b_check)"
   ]
  },
  {
   "cell_type": "markdown",
   "metadata": {},
   "source": [
    "### Exercise 2.2"
   ]
  },
  {
   "cell_type": "code",
   "execution_count": 6,
   "metadata": {},
   "outputs": [],
   "source": [
    "# define utility function and its derivative\n",
    "def u(c, gamma):\n",
    "    if c <= 0:\n",
    "        return -9999999\n",
    "    else:\n",
    "        f = (c**(1-gamma) - 1) / (1 - gamma)\n",
    "        return f\n",
    "\n",
    "def du(c, gamma):\n",
    "    if c <= 0:\n",
    "        return -9999999\n",
    "    else:\n",
    "        df = c ** (-gamma)\n",
    "        return df\n",
    "\n",
    "# define function to get the interest rate\n",
    "def get_r(b, par):\n",
    "    beta, sigma, nvec, L, A, alpha, delta, SS_tol = par\n",
    "    K = sum(b)\n",
    "    r = alpha * A * (L/K)**(1-alpha) - delta\n",
    "    return r\n",
    "\n",
    "# define function to get the wage rate\n",
    "def get_w(b, par):\n",
    "    beta, sigma, nvec, L, A, alpha, delta, SS_tol = par\n",
    "    K = sum(b)\n",
    "    w = (1-alpha) * A * (K/L)**alpha\n",
    "    return w\n",
    "\n",
    "# define function to get the consumptions\n",
    "def get_c(b, par):\n",
    "    beta, sigma, nvec, L, A, alpha, delta, SS_tol = par\n",
    "    \n",
    "    w_bar = get_w(b,par)\n",
    "    r_bar = get_r(b,par)\n",
    "    c = np.empty((3,))\n",
    "    c[0] = w_bar * nvec[0] - b[0]\n",
    "    c[1] = w_bar * nvec[1] + (1+r_bar) * b[0] - b[1]\n",
    "    c[2] = w_bar * nvec[2] + (1+r_bar) * b[1]\n",
    "    \n",
    "    return c\n",
    "\n",
    "# define system of Euler equations\n",
    "def euler_eq(b_guess, p):\n",
    "    beta, sigma, nvec, L, A, alpha, delta, SS_tol = p\n",
    "    \n",
    "    c = get_c(b_guess, p)\n",
    "    eq = [du(c[0], sigma) - beta*(1+get_r(b_guess,p))*du(c[1], sigma),\n",
    "          du(c[1], sigma) - beta*(1+get_r(b_guess,p))*du(c[2], sigma)]\n",
    "    \n",
    "    return eq\n",
    "    \n",
    "\n",
    "# define function to get the steady-state equilibrium\n",
    "def get_SS(params, bvec_guess, SS_graphs):\n",
    "    # check time\n",
    "    start_time = time.clock()\n",
    "    # unpack parameters\n",
    "    beta, sigma, nvec, L, A, alpha, delta, SS_tol = params\n",
    "    \n",
    "    # solve system of Euler equations --> get new bvec\n",
    "    b_solve = optimize.root(euler_eq, bvec_guess, args=params)\n",
    "    b_ss = b_solve.x\n",
    "    \n",
    "    # aggregate capital\n",
    "    K_ss = sum(b_ss)\n",
    "    # interest rate\n",
    "    r_ss = get_r(b_ss, params)\n",
    "    # wage rate\n",
    "    w_ss = get_w(b_ss, params)\n",
    "    # consumption\n",
    "    c_ss = get_c(b_ss, params)\n",
    "    # production function\n",
    "    Y_ss = A * K_ss**alpha * L**(1-alpha)\n",
    "    # aggregate consumption\n",
    "    C_ss = sum(c_ss)\n",
    "    \n",
    "    # define Euler errors\n",
    "    EulErr_ss = euler_eq(b_ss, params)\n",
    "    \n",
    "    # resource constraint\n",
    "    RCerr_ss = Y_ss - C_ss - delta * K_ss\n",
    "    \n",
    "    # measure time\n",
    "    ss_time = time.clock() - start_time\n",
    "\n",
    "    ss_output = {\n",
    "        'b_ss': b_ss, 'c_ss': c_ss, 'w_ss': w_ss, 'r_ss': r_ss,\n",
    "        'K_ss': K_ss, 'Y_ss': Y_ss, 'C_ss': C_ss,\n",
    "        'EulErr_ss': EulErr_ss, 'RCerr_ss': RCerr_ss,\n",
    "        'ss_time': ss_time}\n",
    "    \n",
    "    if SS_graphs:\n",
    "        plt.plot(range(3), c_ss, 'o-', label='consumption')\n",
    "        plt.plot(range(2), b_ss, 'o-', label='savings')\n",
    "        plt.xticks(np.arange(0, 3, 1))\n",
    "        plt.xlabel(\"Age\")\n",
    "        plt.legend()\n",
    "        plt.grid()\n",
    "        plt.show()\n",
    "    \n",
    "    return ss_output"
   ]
  },
  {
   "cell_type": "code",
   "execution_count": 7,
   "metadata": {},
   "outputs": [
    {
     "data": {
      "image/png": "[encoded data removed]",
      "text/plain": [
       "<Figure size 432x288 with 1 Axes>"
      ]
     },
     "metadata": {},
     "output_type": "display_data"
    },
    {
     "data": {
      "text/plain": [
       "{'C_ss': 0.6329006729395864,\n",
       " 'EulErr_ss': [-1.3926637620897964e-12, 2.6290081223123707e-12],\n",
       " 'K_ss': 0.07772362575316386,\n",
       " 'RCerr_ss': 8.326672684688674e-17,\n",
       " 'Y_ss': 0.6827603788602411,\n",
       " 'b_ss': array([0.01931253, 0.0584111 ]),\n",
       " 'c_ss': array([0.18241213, 0.20961468, 0.24087387]),\n",
       " 'r_ss': 2.433062339127069,\n",
       " 'ss_time': 0.000528000000000084,\n",
       " 'w_ss': 0.20172465739052575}"
      ]
     },
     "execution_count": 7,
     "metadata": {},
     "output_type": "execute_result"
    }
   ],
   "source": [
    "n = np.array([1, 1, .2])\n",
    "parameters = [.442, 3, n, sum(n), 1, .35, .6415, 1e-6]\n",
    "bvec = np.array([0.1, 0.1])\n",
    "graph = True\n",
    "\n",
    "steadystate = get_SS(parameters, bvec, graph)\n",
    "steadystate"
   ]
  },
  {
   "cell_type": "markdown",
   "metadata": {},
   "source": [
    "Moving $\\beta\\uparrow$:"
   ]
  },
  {
   "cell_type": "code",
   "execution_count": 8,
   "metadata": {},
   "outputs": [
    {
     "data": {
      "image/png": "[encoded data removed]",
      "text/plain": [
       "<Figure size 432x288 with 1 Axes>"
      ]
     },
     "metadata": {},
     "output_type": "display_data"
    },
    {
     "data": {
      "text/plain": [
       "{'C_ss': 0.6912842903551526,\n",
       " 'EulErr_ss': [6.87805368215777e-12, 2.5295321393059567e-12],\n",
       " 'K_ss': 0.1050423702259807,\n",
       " 'RCerr_ss': 9.71445146547012e-17,\n",
       " 'Y_ss': 0.7586689708551193,\n",
       " 'b_ss': array([0.02817692, 0.07686545]),\n",
       " 'c_ss': array([0.19597528, 0.22861594, 0.26669307]),\n",
       " 'r_ss': 1.8863765057189819,\n",
       " 'ss_time': 0.0006829999999999892,\n",
       " 'w_ss': 0.22415219593446706}"
      ]
     },
     "execution_count": 8,
     "metadata": {},
     "output_type": "execute_result"
    }
   ],
   "source": [
    "parameters = [.55, 3, n, sum(n), 1, .35, .6415, 1e-6]\n",
    "steadystate_b = get_SS(parameters, bvec, graph)\n",
    "steadystate_b"
   ]
  },
  {
   "cell_type": "markdown",
   "metadata": {},
   "source": [
    "They'll consume more in the future because they are more patient and they save more."
   ]
  },
  {
   "cell_type": "markdown",
   "metadata": {},
   "source": [
    "### Exercise 2.3"
   ]
  },
  {
   "cell_type": "code",
   "execution_count": 19,
   "metadata": {},
   "outputs": [],
   "source": [
    "# define utility function and its derivative\n",
    "def u(c, gamma):\n",
    "    if c <= 0:\n",
    "        return -9999999\n",
    "    else:\n",
    "        f = (c**(1-gamma) - 1) / (1 - gamma)\n",
    "        return f\n",
    "\n",
    "def du(c, gamma):\n",
    "    if c <= 0:\n",
    "        return -9999999\n",
    "    else:\n",
    "        df = c ** (-gamma)\n",
    "        return df\n",
    "\n",
    "# define function to get the interest rates\n",
    "def get_ri(K, par):\n",
    "    beta, sigma, nvec, L, A, alpha, delta, tol, T, xi = par\n",
    "    r = alpha * A * (L/K)**(1-alpha) - delta\n",
    "    return r\n",
    "\n",
    "# define function to get the wage rate\n",
    "def get_wi(K, par):\n",
    "    beta, sigma, nvec, L, A, alpha, delta, tol, T, xi = par\n",
    "    w = (1-alpha) * A * (K/L)**alpha\n",
    "    return w\n",
    "\n",
    "# define function to get the consumptions\n",
    "def get_ci(b, w, r, par):\n",
    "    beta, sigma, nvec, L, A, alpha, delta, tol, T, xi = par\n",
    "\n",
    "    c = np.empty((3,))\n",
    "    c[0] = w[0] * nvec[0] - b[0]\n",
    "    c[1] = w[1] * nvec[1] + (1+r[0]) * b[0] - b[1]\n",
    "    c[2] = w[2] * nvec[2] + (1+r[1]) * b[1]\n",
    "    \n",
    "    return c\n",
    "\n",
    "# define system of Euler equations\n",
    "def euler_eqi(b_guess, argum):\n",
    "    p, w, r = argum\n",
    "    beta, sigma, nvec, L, A, alpha, delta, tol, T, xi = p\n",
    "    \n",
    "    c = get_ci(b_guess, w, r, p)\n",
    "    eq = [du(c[0], sigma) - beta*(1+r[0])*du(c[1], sigma),\n",
    "          du(c[1], sigma) - beta*(1+r[1])*du(c[2], sigma)]\n",
    "    \n",
    "    return eq\n",
    "\n",
    "# define time path iteration function to solve for the non-steady state equilibrium\n",
    "def TPI(b_init, params):\n",
    "    # unpack parameters\n",
    "    beta, sigma, nvec, L, A, alpha, delta, tol, T, xi = params\n",
    "    \n",
    "    # define max number of iteration\n",
    "    niter_max = 1000\n",
    "    nit = 0\n",
    "    \n",
    "    # linear initial guess for capital\n",
    "    steadystate = get_SS(parameters[:-2], b_init[0,:], False)\n",
    "    k_ss = steadystate['K_ss']\n",
    "    b_ss = steadystate['b_ss']\n",
    "    k_start = sum(b_init[0,:])\n",
    "    ki = np.linspace(k_start, k_ss, T)\n",
    "    \n",
    "    # iteration till convergence\n",
    "    while nit <= niter_max:\n",
    "        # get interest and wage rates\n",
    "        wi = get_wi(ki, params)\n",
    "        ri = get_ri(ki, params)\n",
    "\n",
    "        bi = np.empty([T,2])\n",
    "        bi[:,0] = np.ones((T,))*b_ss[0]\n",
    "        bi[:,1] = np.ones((T,))*b_ss[1]\n",
    "        bi[0,:] = b_init[0,:]\n",
    "        euler1 = lambda x: du(wi[0]*nvec[1] + (1+ri[0])*bi[0,0] - x, sigma) - beta*(1+ri[1])*du(wi[1]*nvec[2]+(1+ri[1])*x, sigma)\n",
    "        b3 = optimize.root(euler1, bi[0,1])\n",
    "        bi[1,1] = b3.x\n",
    "        for t in range(1,T-1):\n",
    "            bi_start = np.array([bi[t-1,0], bi[t,1]])\n",
    "            arguments = [params, wi[t-1:t+2], ri[t:t+2]]\n",
    "            bi_solve = optimize.root(euler_eqi, bi_start, args=arguments)\n",
    "            bi[t,0] = bi_solve.x[0]\n",
    "            bi[t+1,1] = bi_solve.x[1]\n",
    "\n",
    "        kip = np.sum(bi, axis=1)\n",
    "        \n",
    "        err = sqrt(sum((kip - ki)**2))\n",
    "        \n",
    "        if err <= tol:\n",
    "            print(\"Converged after \", nit, \" iterations.\")\n",
    "            \n",
    "            plt.plot(range(T), kip)\n",
    "            plt.xlabel(\"Periods\")\n",
    "            plt.ylabel(\"Capital\")\n",
    "            plt.show()\n",
    "            \n",
    "            plt.plot(range(T), bi[:,0], label=\"young agent\")\n",
    "            plt.plot(range(T), bi[:,1], label=\"middle-age agent\")\n",
    "            plt.xlabel(\"Periods\")\n",
    "            plt.ylabel(\"Savings\")\n",
    "            plt.legend()\n",
    "            plt.show()\n",
    "            \n",
    "            return kip, bi, nit\n",
    "        else:\n",
    "            ki = xi*kip + (1-xi)*ki\n",
    "            b_init = bi\n",
    "            nit += 1"
   ]
  },
  {
   "cell_type": "code",
   "execution_count": 26,
   "metadata": {},
   "outputs": [
    {
     "name": "stdout",
     "output_type": "stream",
     "text": [
      "Converged after  118  iterations.\n"
     ]
    },
    {
     "data": {
      "image/png": "[encoded data removed]",
      "text/plain": [
       "<Figure size 432x288 with 1 Axes>"
      ]
     },
     "metadata": {},
     "output_type": "display_data"
    },
    {
     "data": {
      "image/png": "[encoded data removed]",
      "text/plain": [
       "<Figure size 432x288 with 1 Axes>"
      ]
     },
     "metadata": {},
     "output_type": "display_data"
    }
   ],
   "source": [
    "T = 30\n",
    "tol = 1e-8\n",
    "n = np.array([1, 1, .2])\n",
    "xi = .2\n",
    "parameters = [.442, 3, n, sum(n), 1, .35, .6415, tol, T, xi]\n",
    "\n",
    "bvec = np.array([0.03, 0.04])  # feasible allocation\n",
    "b_init = np.empty((T,2))\n",
    "b_init[:,0] = np.ones((T,))*bvec[0]\n",
    "b_init[:,1] = np.ones((T,))*bvec[1]\n",
    "\n",
    "k_new, b_new, niter = TPI(b_init, parameters)\n",
    "\n"
   ]
  },
  {
   "cell_type": "code",
   "execution_count": null,
   "metadata": {},
   "outputs": [],
   "source": []
  }
 ],
 "metadata": {
  "kernelspec": {
   "display_name": "Python 3",
   "language": "python",
   "name": "python3"
  },
  "language_info": {
   "codemirror_mode": {
    "name": "ipython",
    "version": 3
   },
   "file_extension": ".py",
   "mimetype": "text/x-python",
   "name": "python",
   "nbconvert_exporter": "python",
   "pygments_lexer": "ipython3",
   "version": "3.6.3"
  }
 },
 "nbformat": 4,
 "nbformat_minor": 2
}
