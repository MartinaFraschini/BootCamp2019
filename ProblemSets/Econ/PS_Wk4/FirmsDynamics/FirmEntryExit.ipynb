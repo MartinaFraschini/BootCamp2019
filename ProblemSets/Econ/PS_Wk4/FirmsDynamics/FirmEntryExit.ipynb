{
 "cells": [
  {
   "cell_type": "markdown",
   "metadata": {},
   "source": [
    "# Firm Dynamics\n",
    "\n",
    "## Problem Set: Firm Entry and Exit\n",
    "\n",
    "Prof. Thomas Winberry\n",
    "\n",
    "Author: Martina Fraschini"
   ]
  },
  {
   "cell_type": "markdown",
   "metadata": {},
   "source": [
    "### Exercise 1: Recursive Competitive Equilibrium"
   ]
  },
  {
   "cell_type": "markdown",
   "metadata": {},
   "source": [
    "A steady state recursive competitive equilibrium of this economy is a set of incumbent value functions $v(\\epsilon,k)$, policy rules $k'(\\epsilon,k)$ and $n(\\epsilon,k)$, and a mass of entrants per period $m^*$, a measure of active firms at the beginning of the period $g^*(\\epsilon,k)$, and a real wage $\\omega^*$ such that:\n",
    "\n",
    "1) Incumbent firms maximize their firm value: $$ v(\\epsilon,k)=\\max\\left\\{(1-\\delta)k, v^1(\\epsilon,k)-c_f\\right\\} $$\n",
    "$$$$\n",
    "$$ v^1(\\epsilon,k)=\\max_{k',n} e^\\epsilon k^\\theta n^\\nu - \\omega^*n-(k'-(1-\\delta)k)-\\frac{\\varphi}{2}\\left(\\frac{k'}{k}-(1-\\delta)\\right)^2k+\\beta E\\left[v(\\epsilon',k')\\right]$$\n",
    "\n",
    "2) The free entry condition holds: $$ c_e \\leq \\int v(\\epsilon,0)\\nu(d\\epsilon) $$ with $ c_e = \\int v(\\epsilon,0)\\nu(d\\epsilon) $ if $m^*>0$.\n",
    "\n",
    "3) The labor market clears: $$ N(g)=\\int n(\\epsilon,k,g)g(\\epsilon,k)d\\epsilon dk $$\n",
    "\n",
    "4) The measure of active firms $g^*(\\epsilon,k)$ is stationary: $g^*(\\epsilon,k)$ satisfies the following law of motion for distribution $$g^{*}\\left(\\varepsilon^{\\prime}, k^{\\prime}\\right)=\\int X(\\varepsilon, k) \\operatorname{Pr}\\left(\\varepsilon^{\\prime} | \\varepsilon\\right) \\mathbb{1}\\left\\{k^{\\prime}(\\varepsilon, k)=k^{\\prime}\\right\\} d g^{*}(\\varepsilon, k)+m^{*} \\operatorname{Pr}\\left(\\nu=\\varepsilon^{\\prime}\\right)$$"
   ]
  },
  {
   "cell_type": "markdown",
   "metadata": {},
   "source": [
    "### Exercise 2: Representative Agent Steady State"
   ]
  },
  {
   "cell_type": "markdown",
   "metadata": {},
   "source": [
    "The steady state of the representative agent is characterized by the following equations:\n",
    "\n",
    "$$ \\bar{r}=\\frac{1}{\\beta}-(1-\\delta) $$\n",
    "\n",
    "$$ \\bar{r} = \\theta \\bar{k}^{\\theta-1}\\bar{N}^\\nu $$\n",
    "\n",
    "$$ \\bar{\\omega}=\\nu \\bar{k}^\\theta\\bar{N}^{\\nu-1} $$\n",
    "\n",
    "$$ \\bar{c}+\\delta \\bar{k}=\\bar{k}^\\theta\\bar{N}^\\nu $$"
   ]
  },
  {
   "cell_type": "code",
   "execution_count": 1,
   "metadata": {},
   "outputs": [
    {
     "name": "stdout",
     "output_type": "stream",
     "text": [
      "Steady state values:\n",
      "\n",
      "Wage rate           w    0.783\n",
      "Capital stock       k    1.0881\n"
     ]
    }
   ],
   "source": [
    "# import packages\n",
    "import numpy as np\n",
    "from matplotlib import pyplot as plt\n",
    "from scipy import optimize\n",
    "\n",
    "# define system of characterizing equations\n",
    "def charact_eq(x, p):\n",
    "    beta, delta, theta, nu, N = p\n",
    "    r = (1/beta) - (1-delta)\n",
    "    return [r - theta * x[1]**(theta-1) * N**nu,\n",
    "            x[2] - nu * x[1]**theta * N**(nu-1),\n",
    "            x[0] + delta*x[1] - x[1]**theta * N**nu]\n",
    "\n",
    "# solve the system\n",
    "param = [.96, .1, .21, .64, .6]\n",
    "X = optimize.root(charact_eq,[.5,.5,.5], args=param)\n",
    "\n",
    "# present results\n",
    "c_star, k_star, w_star = X.x\n",
    "print(\"Steady state values:\\n\")\n",
    "print(\"{:<20}{:<5}{:<5}\".format('Wage rate','w',round(w_star,4)))\n",
    "print(\"{:<20}{:<5}{:<5}\".format('Capital stock','k',round(k_star,4)))"
   ]
  },
  {
   "cell_type": "markdown",
   "metadata": {},
   "source": [
    "### Exercise 3: Incumbent Firms' Decision Rules [incomplete]"
   ]
  },
  {
   "cell_type": "code",
   "execution_count": 19,
   "metadata": {},
   "outputs": [
    {
     "name": "stdout",
     "output_type": "stream",
     "text": [
      "Converged after iteration 645\n"
     ]
    }
   ],
   "source": [
    "# import packages\n",
    "import tauchen\n",
    "from matplotlib import pyplot as plt\n",
    "from mpl_toolkits import mplot3d\n",
    "\n",
    "# define grid of values for capital k, for labor and for shock s\n",
    "Nk = 30\n",
    "k_low = .01\n",
    "k_high = 10.\n",
    "k_grid = np.linspace(k_low, k_high, Nk)\n",
    "\n",
    "Ns = 10\n",
    "mu = 0\n",
    "rho = .9\n",
    "sigma = .02\n",
    "baseSigma = sigma/np.sqrt(1-rho**2)\n",
    "A_grid, TP = tauchen.tauchenhussey(Ns, mu, rho, sigma, baseSigma)\n",
    "A_grid = A_grid.T\n",
    "\n",
    "# define parameters\n",
    "theta = .21\n",
    "nu = .64\n",
    "beta = .96\n",
    "delta = .1\n",
    "phi = .5\n",
    "cf = .01\n",
    "tol = 1e-8\n",
    "max_iterations = 10000\n",
    "\n",
    "# initialize value function\n",
    "V_init = np.ones([Nk,Ns]) * -9999999\n",
    "\n",
    "def vf_update(V_old):\n",
    "    V_new = np.zeros_like(V_old)\n",
    "    policy_k = np.zeros_like(V_old)\n",
    "    \n",
    "    for i in range(Nk):\n",
    "        for s in range(Ns):\n",
    "            a = A_grid[s]\n",
    "            k = k_grid[i]\n",
    "            expectation = 0\n",
    "            for ss in range(Ns):\n",
    "                expectation += TP[s,ss] * V_old[i,ss]\n",
    "            n = (w_star/(nu * np.exp(a) * k**theta))**(1/(nu-1))\n",
    "            V1 = np.exp(a)*k**theta*n**nu - w_star*n - (k_grid - (1-delta)*k) + (phi/2)*(k_grid/k - (1-delta))**2*k + beta*expectation\n",
    "            V_action = np.amax(V1)\n",
    "            if V_action - cf < (1-delta)*k:\n",
    "                V_new[i,s] = (1-delta)*k\n",
    "                policy_k[i,s] = 0.\n",
    "            else:\n",
    "                ind = np.argmax(V1)\n",
    "                V_new[i,s] = V_action - cf\n",
    "                policy_k[i,s] = k_grid[ind]\n",
    "    \n",
    "    return V_new, policy_k\n",
    "\n",
    "# iterate until convergence\n",
    "V = V_init.copy()\n",
    "\n",
    "for iteration in range(max_iterations):\n",
    "    V_new, policy_k = vf_update(V)\n",
    "    difference = np.max(abs(V_new - V))\n",
    "    \n",
    "    V = V_new.copy()\n",
    "\n",
    "    if difference < tol:\n",
    "        print('Converged after iteration {}'.format(iteration + 1))\n",
    "        \n",
    "        break"
   ]
  },
  {
   "cell_type": "code",
   "execution_count": 18,
   "metadata": {},
   "outputs": [
    {
     "data": {
      "image/png": "[encoded data removed]",
      "text/plain": [
       "<Figure size 432x288 with 1 Axes>"
      ]
     },
     "metadata": {},
     "output_type": "display_data"
    }
   ],
   "source": [
    "plt.figure()\n",
    "for s in range(Ns):\n",
    "    plt.plot(k_grid, policy_k[:,s], label=\"Shock {}\".format(s))\n",
    "plt.plot(k_grid, k_grid, label=\"45 degree\")\n",
    "plt.xlabel('k')\n",
    "plt.ylabel(\"k'\")\n",
    "plt.legend()\n",
    "plt.title('Policy function for capital after convergence')\n",
    "plt.show()"
   ]
  },
  {
   "cell_type": "code",
   "execution_count": null,
   "metadata": {},
   "outputs": [],
   "source": []
  }
 ],
 "metadata": {
  "kernelspec": {
   "display_name": "Python 3",
   "language": "python",
   "name": "python3"
  },
  "language_info": {
   "codemirror_mode": {
    "name": "ipython",
    "version": 3
   },
   "file_extension": ".py",
   "mimetype": "text/x-python",
   "name": "python",
   "nbconvert_exporter": "python",
   "pygments_lexer": "ipython3",
   "version": "3.6.3"
  }
 },
 "nbformat": 4,
 "nbformat_minor": 2
}
