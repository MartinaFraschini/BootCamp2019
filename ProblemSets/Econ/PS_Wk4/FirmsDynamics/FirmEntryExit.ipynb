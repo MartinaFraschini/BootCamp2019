{
 "cells": [
  {
   "cell_type": "markdown",
   "metadata": {},
   "source": [
    "# Firm Dynamics\n",
    "\n",
    "## Problem Set: Firm Entry and Exit\n",
    "\n",
    "Prof. Thomas Winberry\n",
    "\n",
    "Author: Martina Fraschini"
   ]
  },
  {
   "cell_type": "markdown",
   "metadata": {},
   "source": [
    "### Exercise 1: Recursive Competitive Equilibrium"
   ]
  },
  {
   "cell_type": "markdown",
   "metadata": {},
   "source": [
    "A steady state recursive competitive equilibrium of this economy is a set of incumbent value functions $v(\\epsilon,k)$, policy rules $k'(\\epsilon,k)$ and $n(\\epsilon,k)$, and a mass of entrants per period $m^*$, a measure of active firms at the beginning of the period $g^*(\\epsilon,k)$, and a real wage $\\omega^*$ such that:\n",
    "\n",
    "1) Incumbent firms maximize their firm value: $$ v(\\epsilon,k)=\\max\\left\\{(1-\\delta)k, v^1(\\epsilon,k)-c_f\\right\\} $$\n",
    "$$$$\n",
    "$$ v^1(\\epsilon,k)=\\max_{k',n} e^\\epsilon k^\\theta n^\\nu - \\omega^*n-(k'-(1-\\delta)k)-\\frac{\\varphi}{2}\\left(\\frac{k'}{k}-(1-\\delta)\\right)^2k+\\beta E\\left[v(\\epsilon',k')\\right]$$\n",
    "\n",
    "2) The free entry condition holds: $$ c_e \\leq \\int v(\\epsilon,0)\\nu(d\\epsilon) $$ with $ c_e = \\int v(\\epsilon,0)\\nu(d\\epsilon) $ if $m^*>0$.\n",
    "\n",
    "3) The labor market clears: $$ N(g)=\\int n(\\epsilon,k,g)g(\\epsilon,k)d\\epsilon dk $$\n",
    "\n",
    "4) The measure of active firms $g^*(\\epsilon,k)$ is stationary: $g^*(\\epsilon,k)$ satisfies the following law of motion for distribution $$g^{*}\\left(\\varepsilon^{\\prime}, k^{\\prime}\\right)=\\int X(\\varepsilon, k) \\operatorname{Pr}\\left(\\varepsilon^{\\prime} | \\varepsilon\\right) \\mathbb{1}\\left\\{k^{\\prime}(\\varepsilon, k)=k^{\\prime}\\right\\} d g^{*}(\\varepsilon, k)+m^{*} \\operatorname{Pr}\\left(\\nu=\\varepsilon^{\\prime}\\right)$$"
   ]
  },
  {
   "cell_type": "markdown",
   "metadata": {},
   "source": [
    "### Exercise 2: Representative Agent Steady State"
   ]
  },
  {
   "cell_type": "markdown",
   "metadata": {},
   "source": [
    "The steady state of the representative agent is characterized by the following equations:\n",
    "\n",
    "$$ \\bar{r}=\\frac{1}{\\beta}-(1-\\delta) $$\n",
    "\n",
    "$$ \\bar{r} = \\theta \\bar{k}^{\\theta-1}\\bar{N}^\\nu $$\n",
    "\n",
    "$$ \\bar{\\omega}=\\nu \\bar{k}^\\theta\\bar{N}^{\\nu-1} $$\n",
    "\n",
    "$$ \\bar{c}+\\delta \\bar{k}=\\bar{k}^\\theta\\bar{N}^\\nu $$"
   ]
  },
  {
   "cell_type": "code",
   "execution_count": 11,
   "metadata": {},
   "outputs": [
    {
     "name": "stdout",
     "output_type": "stream",
     "text": [
      "Steady state values:\n",
      "\n",
      "Wage rate           w    0.783\n",
      "Capital stock       k    1.0881\n"
     ]
    }
   ],
   "source": [
    "# import packages\n",
    "import numpy as np\n",
    "from matplotlib import pyplot as plt\n",
    "from scipy import optimize\n",
    "\n",
    "# define system of characterizing equations\n",
    "def charact_eq(x, p):\n",
    "    beta, delta, theta, nu, N = p\n",
    "    r = (1/beta) - (1-delta)\n",
    "    return [r - theta * x[1]**(theta-1) * N**nu,\n",
    "            x[2] - nu * x[1]**theta * N**(nu-1),\n",
    "            x[0] + delta*x[1] - x[1]**theta * N**nu]\n",
    "\n",
    "# solve the system\n",
    "param = [.96, .1, .21, .64, .6]\n",
    "X = optimize.root(charact_eq,[.5,.5,.5], args=param)\n",
    "\n",
    "# present results\n",
    "c_star, k_star, w_star = X.x\n",
    "print(\"Steady state values:\\n\")\n",
    "print(\"{:<20}{:<5}{:<5}\".format('Wage rate','w',round(w_star,4)))\n",
    "print(\"{:<20}{:<5}{:<5}\".format('Capital stock','k',round(k_star,4)))"
   ]
  },
  {
   "cell_type": "markdown",
   "metadata": {},
   "source": [
    "### Exercise 3: Incumbent Firms' Decision Rules [incomplete]"
   ]
  },
  {
   "cell_type": "code",
   "execution_count": 36,
   "metadata": {},
   "outputs": [],
   "source": [
    "# import packages\n",
    "import tauchen\n",
    "\n",
    "# define grid of values for capital k, for labor and for shock eps\n",
    "Nk = 30\n",
    "k_low = 0.02\n",
    "k_high = 2\n",
    "k_grid = np.linspace(k_low, k_high, Nk)\n",
    "\n",
    "Nn = 30\n",
    "n_low = 0.02\n",
    "n_high = 2\n",
    "n_grid = np.linspace(n_low, n_high, Nn)\n",
    "\n",
    "Ns = 10\n",
    "mu = 0\n",
    "rho = .9\n",
    "sigma = .02\n",
    "baseSigma = sigma/np.sqrt(1-rho**2)\n",
    "A_grid, TP = tauchen.tauchenhussey(Ns, mu, rho, sigma, baseSigma)\n",
    "A_grid = A_grid.T\n",
    "\n",
    "# define parameters\n",
    "beta = .96\n",
    "tol = 1e-8\n",
    "max_iterations = 10000\n",
    "\n",
    "# initialize value function\n",
    "V_init = np.zeros([Nk,Nn,Ns])\n",
    "\n",
    "def vf_update(V_old):\n",
    "    V_new = np.zeros_like(V_old)\n",
    "    policy = np.zeros_like(V_old)\n",
    "    \n",
    "    \n",
    "    \n",
    "    return V_new, policy\n",
    "\n",
    "# iterate until convergence\n",
    "V = V_init.copy()\n",
    "\n",
    "for iteration in range(max_iterations):\n",
    "    V_new, policy_k = vf_update(V)\n",
    "    difference = np.max(abs(V_new - V))\n",
    "    \n",
    "    V = V_new.copy()\n",
    "\n",
    "    if difference < tol:\n",
    "        print('Converged after iteration {}'.format(iteration + 1))\n",
    "        \n",
    "        kk,nn = np.meshgrid(k_grid,n_grid)\n",
    "        fig = plt.figure(figsize=(8,8))\n",
    "        ax = plt.axes(projection='3d')\n",
    "        ax.plot_surface(kk, nn, V[:,:,0])\n",
    "        ax.set_xlabel(r\"$k_t$\")\n",
    "        ax.set_ylabel(r\"$n_t$\")\n",
    "        ax.set_zlabel(r\"$V_{t}$\")\n",
    "        ax.set_title(\"Value function for shock 0\\n\")\n",
    "        plt.show()\n",
    "        \n",
    "        fig = plt.figure(figsize=(8,8))\n",
    "        ax = plt.axes(projection='3d')\n",
    "        ax.plot_surface(kk, nn, policy_k[:,:,0])\n",
    "        ax.set_xlabel(r\"$k_t$\")\n",
    "        ax.set_ylabel(r\"$n_t$\")\n",
    "        ax.set_zlabel(r\"$k_{t+1}$\")\n",
    "        ax.set_title(\"Policy function for shock 0\\n\")\n",
    "        plt.show()\n",
    "        \n",
    "        break"
   ]
  },
  {
   "cell_type": "code",
   "execution_count": 12,
   "metadata": {},
   "outputs": [
    {
     "data": {
      "text/plain": [
       "array([[[1., 1., 1.],\n",
       "        [1., 1., 1.],\n",
       "        [1., 1., 1.]],\n",
       "\n",
       "       [[1., 1., 1.],\n",
       "        [1., 1., 1.],\n",
       "        [1., 1., 1.]],\n",
       "\n",
       "       [[1., 1., 1.],\n",
       "        [1., 1., 1.],\n",
       "        [1., 1., 1.]]])"
      ]
     },
     "execution_count": 12,
     "metadata": {},
     "output_type": "execute_result"
    }
   ],
   "source": [
    "A = np.ones([3,3,3])\n",
    "A"
   ]
  },
  {
   "cell_type": "code",
   "execution_count": null,
   "metadata": {},
   "outputs": [],
   "source": []
  }
 ],
 "metadata": {
  "kernelspec": {
   "display_name": "Python 3",
   "language": "python",
   "name": "python3"
  },
  "language_info": {
   "codemirror_mode": {
    "name": "ipython",
    "version": 3
   },
   "file_extension": ".py",
   "mimetype": "text/x-python",
   "name": "python",
   "nbconvert_exporter": "python",
   "pygments_lexer": "ipython3",
   "version": "3.6.3"
  }
 },
 "nbformat": 4,
 "nbformat_minor": 2
}
