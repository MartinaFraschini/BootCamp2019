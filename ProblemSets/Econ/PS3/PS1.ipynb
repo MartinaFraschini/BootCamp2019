{
 "cells": [
  {
   "cell_type": "markdown",
   "metadata": {},
   "source": [
    "# DSGE Models\n",
    "## Problem Set 1\n",
    "\n",
    "Prof. Kerk Phillips\n",
    "\n",
    "Author: Martina Fraschini"
   ]
  },
  {
   "cell_type": "markdown",
   "metadata": {},
   "source": [
    "### Exercise 5"
   ]
  },
  {
   "cell_type": "code",
   "execution_count": 1,
   "metadata": {},
   "outputs": [
    {
     "name": "stdout",
     "output_type": "stream",
     "text": [
      "Steady state values:\n",
      "\n",
      "Consumption    c    1.4845\n",
      "Wage rate      w    1.328\n",
      "Rental rate    r    0.1215\n",
      "Capital        k    7.2875\n",
      "Transfer       T    0.0742\n",
      "Output         y    2.2133\n",
      "Investment     i    0.7287\n",
      "\n",
      "The algebraic solution for capital is k =  7.2875\n"
     ]
    }
   ],
   "source": [
    "# import packages\n",
    "import numpy as np\n",
    "from matplotlib import pyplot as plt\n",
    "from scipy import optimize\n",
    "\n",
    "# define system of characterizing equations\n",
    "def charact_eq(x, p):\n",
    "    gamma, beta, alpha, delta, tau = p\n",
    "    return [x[0] - x[1] - (x[2]-delta)*x[3],\n",
    "            x[0]**(-gamma) - beta*x[0]**(-gamma) * ((x[2]-delta)*(1-tau)+1),\n",
    "            x[2] - alpha * x[3]**(alpha-1),\n",
    "            x[1] - (1-alpha) * x[3]**alpha,\n",
    "            x[4] - tau*(x[1] + (x[2]-delta)*x[3])]\n",
    "\n",
    "# solve the system\n",
    "param = [2.5, .98, .4, .1, .05]\n",
    "X = optimize.root(charact_eq,[.5,.5,.5,.5,.5], args=param)\n",
    "\n",
    "# present results\n",
    "c, w, r, k, T = X.x\n",
    "y = k ** .4\n",
    "i = y - c\n",
    "\n",
    "print(\"Steady state values:\\n\")\n",
    "print(\"{:<15}{:<5}{:<5}\".format('Consumption','c',round(c,4)))\n",
    "print(\"{:<15}{:<5}{:<5}\".format('Wage rate','w',round(w,4)))\n",
    "print(\"{:<15}{:<5}{:<5}\".format('Rental rate','r',round(r,4)))\n",
    "print(\"{:<15}{:<5}{:<5}\".format('Capital','k',round(k,4)))\n",
    "print(\"{:<15}{:<5}{:<5}\".format('Transfer','T',round(T,4)))\n",
    "print(\"{:<15}{:<5}{:<5}\".format('Output','y',round(y,4)))\n",
    "print(\"{:<15}{:<5}{:<5}\".format('Investment','i',round(i,4)))\n",
    "\n",
    "gamma, beta, alpha, delta, tau = param\n",
    "print(\"\\nThe algebraic solution for capital is k = \", round(((1/alpha)*((1-beta)/(beta*(1-tau)) + delta))**(1/(alpha-1)),4))"
   ]
  },
  {
   "cell_type": "markdown",
   "metadata": {},
   "source": [
    "### Exercise 6"
   ]
  },
  {
   "cell_type": "code",
   "execution_count": 1,
   "metadata": {},
   "outputs": [
    {
     "name": "stdout",
     "output_type": "stream",
     "text": [
      "Steady state values:\n",
      "\n",
      "Consumption    c    0.8607\n",
      "Wage rate      w    1.328\n",
      "Rental rate    r    0.1215\n",
      "Capital        k    4.2252\n",
      "Transfer       T    0.043\n",
      "Labor          l    0.5798\n",
      "Output         y    1.2832\n",
      "Investment     i    0.4225\n"
     ]
    }
   ],
   "source": [
    "# import packages\n",
    "import numpy as np\n",
    "from matplotlib import pyplot as plt\n",
    "from scipy import optimize\n",
    "\n",
    "# define system of characterizing equations\n",
    "def charact_eq(x, p):\n",
    "    gamma, xi, beta, alpha, a, delta, tau, z = p\n",
    "    return [x[0] - x[1]*x[5] - (x[2]-delta)*x[3],\n",
    "            x[0]**(-gamma) - beta*x[0]**(-gamma) * ((x[2]-delta)*(1-tau)+1),\n",
    "            x[0]**(-gamma)*x[1]*(1-tau) - a*(1-x[5])**(-xi),\n",
    "            x[2] - alpha * x[3]**(alpha-1) * x[5]**(1-alpha) * np.exp((1-alpha)*z),\n",
    "            x[1] - (1-alpha) * x[3]**alpha * x[5]**(-alpha) * np.exp((1-alpha)*z),\n",
    "            x[4] - tau*(x[1]*x[5] + (x[2]-delta)*x[3])]\n",
    "\n",
    "# solve the system\n",
    "param = [2.5, 1.5, .98, .4, .5, .1, .05, 0.]\n",
    "X = optimize.root(charact_eq,[.5,.5,.5,.5,.5,.5], args=param)\n",
    "\n",
    "# present results\n",
    "c, w, r, k, T, l = X.x\n",
    "y = (k ** .4)*(l ** .6)\n",
    "i = y - c\n",
    "\n",
    "print(\"Steady state values:\\n\")\n",
    "print(\"{:<15}{:<5}{:<5}\".format('Consumption','c',round(c,4)))\n",
    "print(\"{:<15}{:<5}{:<5}\".format('Wage rate','w',round(w,4)))\n",
    "print(\"{:<15}{:<5}{:<5}\".format('Rental rate','r',round(r,4)))\n",
    "print(\"{:<15}{:<5}{:<5}\".format('Capital','k',round(k,4)))\n",
    "print(\"{:<15}{:<5}{:<5}\".format('Transfer','T',round(T,4)))\n",
    "print(\"{:<15}{:<5}{:<5}\".format('Labor','l',round(l,4)))\n",
    "print(\"{:<15}{:<5}{:<5}\".format('Output','y',round(y,4)))\n",
    "print(\"{:<15}{:<5}{:<5}\".format('Investment','i',round(i,4)))\n"
   ]
  },
  {
   "cell_type": "markdown",
   "metadata": {},
   "source": [
    "### Exercise 7"
   ]
  },
  {
   "cell_type": "code",
   "execution_count": 2,
   "metadata": {},
   "outputs": [
    {
     "name": "stdout",
     "output_type": "stream",
     "text": [
      "          gamma        xi      beta     alpha         a     delta       tau         z\n",
      "-------------------------------------------------------------------------------------\n",
      "c        0.0283   -0.1633     1.751    2.0853   -0.3767   -3.5111   -0.2344    0.5782\n",
      "w          -0.0       0.0    7.9879    4.3961       0.0    -7.287   -0.1648     1.328\n",
      "r          -0.0      -0.0    -1.096       0.0      -0.0       1.0    0.0226       0.0\n",
      "k        0.1387   -0.8017   65.4385   25.9858   -1.8492  -48.3453   -2.3232    2.8383\n",
      "T        0.0014   -0.0082    0.0876    0.1043   -0.0188   -0.1756     0.849    0.0289\n",
      "l         0.019     -0.11    0.2603   -0.7694   -0.2538    1.3197   -0.1389   -0.1903\n",
      "y        0.0421   -0.2435    8.2949     2.135   -0.5616   -4.1209   -0.4667    0.0921\n",
      "i        0.0139   -0.0802    6.5438    2.5986   -0.1849   -4.8345   -0.2323    0.2838\n"
     ]
    }
   ],
   "source": [
    "# import packages\n",
    "import numpy as np\n",
    "from matplotlib import pyplot as plt\n",
    "from scipy import optimize\n",
    "\n",
    "# define system of characterizing equations\n",
    "def charact_eq(x, p):\n",
    "    gamma, xi, beta, alpha, a, delta, tau, z = p\n",
    "    return [x[0] - x[1]*x[5] - (x[2]-delta)*x[3],\n",
    "            x[0]**(-gamma) - beta*x[0]**(-gamma) * ((x[2]-delta)*(1-tau)+1),\n",
    "            x[0]**(-gamma)*x[1]*(1-tau) - a*(1-x[5])**(-xi),\n",
    "            x[2] - alpha * x[3]**(alpha-1) * x[5]**(1-alpha) * np.exp((1-alpha)*z),\n",
    "            x[1] - (1-alpha) * x[3]**alpha * x[5]**(-alpha) * np.exp((1-alpha)*z),\n",
    "            x[4] - tau*(x[1]*x[5] + (x[2]-delta)*x[3])]\n",
    "\n",
    "# define parameters and initial value\n",
    "param = [2.5, 1.5, .98, .4, .5, .1, .05, 0.]\n",
    "x0 = [.5,.5,.5,.5,.5,.5]\n",
    "\n",
    "# model at the steady state\n",
    "X = optimize.root(charact_eq,x0, args=param)\n",
    "c, w, r, k, T, l = X.x\n",
    "y = (k ** .4)*(l ** .6)\n",
    "i = y - c\n",
    "\n",
    "# compute derivatives\n",
    "h = 1e-5\n",
    "dd = np.empty([len(x0)+2,len(param)])\n",
    "for ip in range(len(param)):\n",
    "    h_param = param.copy()\n",
    "    h_param[ip] += h \n",
    "    h_X = optimize.root(charact_eq,x0, args=h_param)\n",
    "    for ix in range(len(x0)):\n",
    "        dd[ix,ip] = (h_X.x[ix] - X.x[ix]) / h\n",
    "    h_y = (h_X.x[3] ** .4)*(h_X.x[5] ** .6)\n",
    "    h_i = h_y - h_X.x[0]\n",
    "    dd[-2,ip] = (h_y - y) / h\n",
    "    dd[-1,ip] = (h_i - i) / h\n",
    "\n",
    "namevar = ['c', 'w', 'r', 'k', 'T', 'l', 'y', 'i']\n",
    "# present results\n",
    "print(\"{:<5}{:>10}{:>10}{:>10}{:>10}{:>10}{:>10}{:>10}{:>10}\".format('','gamma', 'xi', 'beta', 'alpha', 'a', 'delta', 'tau', 'z'))\n",
    "print(\"-\"*85)\n",
    "for ix in range(len(x0)+2):\n",
    "    print(\"{:<5}{:>10}{:>10}{:>10}{:>10}{:>10}{:>10}{:>10}{:>10}\".format(namevar[ix],round(dd[ix,0],4),round(dd[ix,1],4),round(dd[ix,2],4),round(dd[ix,3],4),round(dd[ix,4],4),round(dd[ix,5],4),round(dd[ix,6],4),round(dd[ix,7],4)))\n",
    "\n"
   ]
  },
  {
   "cell_type": "code",
   "execution_count": null,
   "metadata": {},
   "outputs": [],
   "source": []
  }
 ],
 "metadata": {
  "kernelspec": {
   "display_name": "Python 3",
   "language": "python",
   "name": "python3"
  },
  "language_info": {
   "codemirror_mode": {
    "name": "ipython",
    "version": 3
   },
   "file_extension": ".py",
   "mimetype": "text/x-python",
   "name": "python",
   "nbconvert_exporter": "python",
   "pygments_lexer": "ipython3",
   "version": "3.6.3"
  }
 },
 "nbformat": 4,
 "nbformat_minor": 2
}
