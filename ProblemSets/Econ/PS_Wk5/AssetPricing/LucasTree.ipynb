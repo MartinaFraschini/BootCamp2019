{
 "cells": [
  {
   "cell_type": "markdown",
   "metadata": {},
   "source": [
    "# Asset pricing\n",
    "\n",
    "## Lucas Tree Model - homework\n",
    "\n",
    "Prof. Scott Condie\n",
    "\n",
    "Author: Martina Fraschini"
   ]
  },
  {
   "cell_type": "markdown",
   "metadata": {},
   "source": [
    "### Load Data"
   ]
  },
  {
   "cell_type": "code",
   "execution_count": 1,
   "metadata": {},
   "outputs": [],
   "source": [
    "# Import packages\n",
    "import pandas as pd\n",
    "import numpy as np\n",
    "\n",
    "# load time series of personal consumption expenditures\n",
    "df_pcecc = pd.read_csv(\"PCECC96.csv\", header = 0, encoding=\"utf-8\", sep=\",\", engine='python')\n",
    "df_pcecc.index = pd.to_datetime(df_pcecc[\"DATE\"], format=\"%Y-%m-%d\")\n",
    "df_pcecc = df_pcecc.drop(columns=\"DATE\")\n",
    "\n",
    "# load time series of GDP deflator\n",
    "df_gdpdef = pd.read_csv(\"GDPDEF.csv\", header = 0, encoding=\"utf-8\", sep=\",\", engine='python')\n",
    "df_gdpdef.index = pd.to_datetime(df_gdpdef[\"DATE\"], format=\"%Y-%m-%d\")\n",
    "df_gdpdef = df_gdpdef.drop(columns=\"DATE\")\n",
    "\n",
    "# load time series of returns to the aggregate US stock market\n",
    "df_will = pd.read_csv(\"WILL5000INDFC.csv\", header = 0, encoding=\"utf-8\", sep=\",\", engine='python')\n",
    "df_will.index = pd.to_datetime(df_will[\"DATE\"], format=\"%Y-%m-%d\")\n",
    "df_will = df_will.drop(columns=\"DATE\")\n",
    "df_will = df_will[df_will[\"WILL5000INDFC\"] != \".\"]\n",
    "df_will[\"WILL5000INDFC\"] = df_will[\"WILL5000INDFC\"].apply(pd.to_numeric)\n",
    "df_will = df_will.resample('D').asfreq()\n",
    "df_will = df_will.fillna(method='ffill')\n",
    "df_will = df_will.resample(\"QS\").asfreq()\n",
    "#df_will[\"WILL5000INDFC\"] = df_will[\"WILL5000INDFC\"] / df_will[\"WILL5000INDFC\"].shift(1)\n",
    "df_will[\"WILL5000\"] = (df_will['WILL5000INDFC'] / df_gdpdef[\"GDPDEF\"]) * 100\n",
    "df_will[\"WILL5000\"] = df_will[\"WILL5000\"] / df_will[\"WILL5000\"].shift(1)\n",
    "df_will = df_will.drop(columns=\"WILL5000INDFC\")\n",
    "\n",
    "# load time series of risk-free rate\n",
    "df_tb3ms = pd.read_csv(\"TB3MS.csv\", header = 0, encoding=\"utf-8\", sep=\",\", engine='python')\n",
    "df_tb3ms.index = pd.to_datetime(df_tb3ms[\"DATE\"], format=\"%Y-%m-%d\")\n",
    "df_tb3ms = df_tb3ms.drop(columns=\"DATE\")\n",
    "df_tb3ms = df_tb3ms.resample('MS').asfreq()\n",
    "df_tb3ms = df_tb3ms.fillna(method='ffill')\n",
    "df_tb3ms = df_tb3ms.resample(\"QS\").asfreq()\n",
    "df_tb3ms['TB3MS'] = df_tb3ms['TB3MS']/100\n",
    "\n",
    "# Merge into one DataFrame\n",
    "df = df_pcecc.merge(df_will,  how='outer', left_index=True, right_index=True)\n",
    "df = df.merge(df_tb3ms,  how='outer', left_index=True, right_index=True)\n",
    "df.dropna(axis=0, inplace=True)"
   ]
  },
  {
   "cell_type": "markdown",
   "metadata": {},
   "source": [
    "### Exercise 1"
   ]
  },
  {
   "cell_type": "code",
   "execution_count": 2,
   "metadata": {},
   "outputs": [
    {
     "name": "stdout",
     "output_type": "stream",
     "text": [
      "The value of gamma is:  1.3433545438695351\n"
     ]
    }
   ],
   "source": [
    "# import packages\n",
    "import scipy.optimize as opt\n",
    "\n",
    "beta = .99\n",
    "\n",
    "class EstimateGamma1:\n",
    "    \n",
    "    def __init__(self, df, beta):\n",
    "        self.df = df\n",
    "        self.beta = beta\n",
    "        \n",
    "    def funct_toestimate(self, gamma):\n",
    "        u1 = self.df.PCECC96 ** (-gamma)\n",
    "        m = self.beta * (u1 / u1.shift(1))\n",
    "        R = self.df.WILL5000\n",
    "        \n",
    "        m = m[1:]\n",
    "        R = R[1:]\n",
    "        \n",
    "        covariance = np.cov(m, R)[0,1]\n",
    "        expect_m = m.mean()\n",
    "        expect_R = R.mean()\n",
    "        \n",
    "        funct = 1 - covariance - expect_m * expect_R\n",
    "        \n",
    "        return funct\n",
    "        \n",
    "    def estimate(self, gamma0):\n",
    "        gamma = opt.broyden1(self.funct_toestimate, gamma0)\n",
    "        return gamma\n",
    "    \n",
    "myclass = EstimateGamma1(df, beta)\n",
    "gamma_star = myclass.estimate(1.0001)\n",
    "print(\"The value of gamma is: \", gamma_star)"
   ]
  },
  {
   "cell_type": "markdown",
   "metadata": {},
   "source": [
    "### Exercise 2"
   ]
  },
  {
   "cell_type": "markdown",
   "metadata": {},
   "source": [
    "The value for the coefficient of risk aversion seems reasonable, considering that $\\gamma=1$ corrisponds to risk neutrality and for $\\gamma>1$ individuals are risk averse. Moreover, empirical studies based on actual behavior of individuals have consistently yielded estimates in the range 1 to 4 for the coefficient of relative risk aversion, with a mean value for $\\gamma=2$."
   ]
  },
  {
   "cell_type": "markdown",
   "metadata": {},
   "source": [
    "### Exercise 3"
   ]
  },
  {
   "cell_type": "code",
   "execution_count": 3,
   "metadata": {},
   "outputs": [
    {
     "name": "stdout",
     "output_type": "stream",
     "text": [
      "The value of gamma is:  4.818572517122836\n"
     ]
    }
   ],
   "source": [
    "beta = .99\n",
    "\n",
    "class EstimateGamma2:\n",
    "    \n",
    "    def __init__(self, df, beta):\n",
    "        self.df = df\n",
    "        self.beta = beta\n",
    "        \n",
    "    def funct_toestimate(self, gamma):\n",
    "        u1 = self.df.PCECC96 ** (-gamma)\n",
    "        m = self.beta * (u1 / u1.shift(1))\n",
    "        rf = self.df.TB3MS\n",
    "        \n",
    "        m = m[1:]\n",
    "        rf = rf[1:]\n",
    "        \n",
    "        expect_m = m.mean()\n",
    "        expect_rf = rf.mean()\n",
    "        \n",
    "        funct = 1 + expect_rf - (1 / expect_m)\n",
    "        \n",
    "        return funct\n",
    "        \n",
    "    def estimate(self, gamma0):\n",
    "        gamma = opt.broyden1(self.funct_toestimate, gamma0)\n",
    "        return gamma\n",
    "    \n",
    "myclass = EstimateGamma2(df, beta)\n",
    "gamma_star = myclass.estimate(1.0001)\n",
    "print(\"The value of gamma is: \", gamma_star)"
   ]
  },
  {
   "cell_type": "markdown",
   "metadata": {},
   "source": [
    "The estimate is much bigger than before."
   ]
  },
  {
   "cell_type": "markdown",
   "metadata": {},
   "source": [
    "### Exercise 4"
   ]
  },
  {
   "cell_type": "code",
   "execution_count": 4,
   "metadata": {},
   "outputs": [
    {
     "name": "stdout",
     "output_type": "stream",
     "text": [
      "The value of gamma is:  1.0301044178874472\n",
      "The value of beta is:  0.9746782584352444\n"
     ]
    }
   ],
   "source": [
    "class GMM_estimate:\n",
    "    \n",
    "    def __init__(self, df):\n",
    "        self.df = df\n",
    "    \n",
    "    def objfun(self, param):\n",
    "        beta, gamma = param\n",
    "        \n",
    "        # define weighting matrix\n",
    "        W = np.eye(len(param))\n",
    "        \n",
    "        moments = np.empty(len(param))\n",
    "        \n",
    "        # define first moment\n",
    "        u1 = self.df.PCECC96 ** (-gamma)\n",
    "        m = beta * (u1 / u1.shift(1))\n",
    "        R = self.df.WILL5000\n",
    "        m = m[1:]\n",
    "        R = R[1:]\n",
    "        covariance = np.cov(m, R)[0,1]\n",
    "        expect_m = m.mean()\n",
    "        expect_R = R.mean()\n",
    "        \n",
    "        moments[0] = 1 - covariance - expect_m * expect_R\n",
    "        \n",
    "        # define second moment\n",
    "        rf = self.df.TB3MS\n",
    "        rf = rf[1:]\n",
    "        expect_rf = rf.mean()\n",
    "        \n",
    "        moments[1] = 1 + expect_rf - (1 / expect_m)\n",
    "        \n",
    "        # define function to minimize\n",
    "        minfun = moments.T @ W @ moments\n",
    "        \n",
    "        return minfun\n",
    "    \n",
    "    def estimate(self, param0):\n",
    "        param = opt.minimize(self.objfun, param0)\n",
    "        return param\n",
    "    \n",
    "myclass = GMM_estimate(df)\n",
    "param_star = myclass.estimate([.5, 1.001])\n",
    "print(\"The value of gamma is: \", param_star.x[1])\n",
    "print(\"The value of beta is: \", param_star.x[0])"
   ]
  },
  {
   "cell_type": "code",
   "execution_count": 6,
   "metadata": {},
   "outputs": [
    {
     "data": {
      "image/png": "[encoded data removed]",
      "text/plain": [
       "<Figure size 432x288 with 1 Axes>"
      ]
     },
     "metadata": {},
     "output_type": "display_data"
    }
   ],
   "source": [
    "# import packages\n",
    "from matplotlib import pyplot as plt\n",
    "\n",
    "# plot for different beta and gamma\n",
    "beta_vec = np.array([.95, .96, .97, .98, .99])\n",
    "gamma_vec = np.linspace(.5,4.,10)\n",
    "for i, beta in enumerate(beta_vec):\n",
    "    obj = np.empty(len(gamma_vec))\n",
    "    for j, gamma in enumerate(gamma_vec):\n",
    "        obj[j] = myclass.objfun([beta, gamma])\n",
    "    plt.plot(gamma_vec, obj, label=r\"$\\beta={}$\".format(beta))\n",
    "plt.legend()\n",
    "plt.xlabel(r\"$\\gamma$\")\n",
    "plt.ylabel(\"Objective function\")\n",
    "plt.show()"
   ]
  }
 ],
 "metadata": {
  "kernelspec": {
   "display_name": "Python 3",
   "language": "python",
   "name": "python3"
  },
  "language_info": {
   "codemirror_mode": {
    "name": "ipython",
    "version": 3
   },
   "file_extension": ".py",
   "mimetype": "text/x-python",
   "name": "python",
   "nbconvert_exporter": "python",
   "pygments_lexer": "ipython3",
   "version": "3.6.3"
  }
 },
 "nbformat": 4,
 "nbformat_minor": 2
}
