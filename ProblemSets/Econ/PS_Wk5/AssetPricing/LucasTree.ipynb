{
 "cells": [
  {
   "cell_type": "markdown",
   "metadata": {},
   "source": [
    "# Asset pricing\n",
    "\n",
    "## Lucas Tree Model - homework\n",
    "\n",
    "Prof. Scott Condie\n",
    "\n",
    "Author: Martina Fraschini"
   ]
  },
  {
   "cell_type": "markdown",
   "metadata": {},
   "source": [
    "### Load Data"
   ]
  },
  {
   "cell_type": "code",
   "execution_count": 3,
   "metadata": {},
   "outputs": [
    {
     "name": "stdout",
     "output_type": "stream",
     "text": [
      "            TB3MS\n",
      "Date             \n",
      "2018-04-01   1.76\n",
      "2018-07-01   1.96\n",
      "2018-10-01   2.25\n",
      "2019-01-01   2.37\n",
      "2019-04-01   2.38\n"
     ]
    }
   ],
   "source": [
    "# Import packages\n",
    "import pandas as pd\n",
    "import numpy as np\n",
    "\n",
    "# load databases\n",
    "df_pcecc = pd.read_csv(\"PCECC96.csv\", header = 0, encoding=\"utf-8\", sep=\",\", engine='python')\n",
    "df_gdpdef = pd.read_csv(\"GDPDEF.csv\", header = 0, encoding=\"utf-8\", sep=\",\", engine='python')\n",
    "df_will = pd.read_csv(\"WILL5000INDFC.csv\", header = 0, encoding=\"utf-8\", sep=\",\", engine='python')\n",
    "df_tb3ms = pd.read_csv(\"TB3MS.csv\", header = 0, encoding=\"utf-8\", sep=\",\", engine='python')\n",
    "\n",
    "# adjust series: fill missing values, change frequancy to quartely, put date as index\n",
    "df_pcecc['Date'] = pd.to_datetime(df_pcecc.DATE)\n",
    "del df_pcecc['DATE']\n",
    "df_pcecc.set_index('Date', inplace=True)\n",
    "\n",
    "df_gdpdef['Date'] = pd.to_datetime(df_gdpdef.DATE)\n",
    "del df_gdpdef['DATE']\n",
    "df_gdpdef.set_index('Date', inplace=True)\n",
    "\n",
    "df_tb3ms[\"Date\"] = pd.to_datetime(df_tb3ms.DATE)\n",
    "df_tb3ms.set_index('Date', inplace=True)\n",
    "del df_tb3ms['DATE']\n",
    "df_tb3ms = df_tb3ms.resample('QS').asfreq()\n",
    "\n",
    "df_will = df_will.replace('.', method='ffill')\n",
    "df_will['WILL5000INDFC'] = pd.to_numeric(df_will['WILL5000INDFC'])\n",
    "df_will[\"Date\"] = pd.to_datetime(df_will.DATE)\n",
    "df_will.set_index('Date', inplace=True)\n",
    "del df_will['DATE']\n",
    "df_will = df_will.resample('QS').asfreq()\n",
    "\n",
    "# adjust returns\n",
    "df_tb3ms['TB3MS'] = df_tb3ms['TB3MS'] / 100\n"
   ]
  },
  {
   "cell_type": "markdown",
   "metadata": {},
   "source": [
    "### Exercise 1"
   ]
  },
  {
   "cell_type": "code",
   "execution_count": null,
   "metadata": {},
   "outputs": [],
   "source": []
  }
 ],
 "metadata": {
  "kernelspec": {
   "display_name": "Python 3",
   "language": "python",
   "name": "python3"
  },
  "language_info": {
   "codemirror_mode": {
    "name": "ipython",
    "version": 3
   },
   "file_extension": ".py",
   "mimetype": "text/x-python",
   "name": "python",
   "nbconvert_exporter": "python",
   "pygments_lexer": "ipython3",
   "version": "3.6.3"
  }
 },
 "nbformat": 4,
 "nbformat_minor": 2
}
