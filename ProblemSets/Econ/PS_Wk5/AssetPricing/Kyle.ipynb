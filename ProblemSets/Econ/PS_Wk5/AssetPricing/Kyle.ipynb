{
 "cells": [
  {
   "cell_type": "markdown",
   "metadata": {},
   "source": [
    "# Asset pricing\n",
    "\n",
    "## Kyle Model - homework\n",
    "\n",
    "Prof. Scott Condie\n",
    "\n",
    "Author: Martina Fraschini"
   ]
  },
  {
   "cell_type": "markdown",
   "metadata": {},
   "source": [
    "### Load data"
   ]
  },
  {
   "cell_type": "code",
   "execution_count": 1,
   "metadata": {},
   "outputs": [],
   "source": [
    "# import packages\n",
    "import numpy as np\n",
    "import pandas as pd\n",
    "from matplotlib import pyplot as plt\n",
    "import pickle\n",
    "\n",
    "# Load data\n",
    "with open('AAPL', 'rb') as file_pickle:\n",
    "    AAPL = pickle.load(file_pickle)\n",
    "with open('C', 'rb') as file_pickle:\n",
    "    C = pickle.load(file_pickle)\n",
    "with open('GBX', 'rb') as file_pickle:\n",
    "    GBX = pickle.load(file_pickle)\n",
    "with open('SPY', 'rb') as file_pickle:\n",
    "    SPY = pickle.load(file_pickle)\n",
    "with open('THO', 'rb') as file_pickle:\n",
    "    THO = pickle.load(file_pickle)\n"
   ]
  },
  {
   "cell_type": "code",
   "execution_count": 2,
   "metadata": {},
   "outputs": [
    {
     "name": "stdout",
     "output_type": "stream",
     "text": [
      "(1122, 'B', 43128.198123400005, 104210481.0)\n"
     ]
    }
   ],
   "source": [
    "print(AAPL[320][1][1])"
   ]
  },
  {
   "cell_type": "code",
   "execution_count": null,
   "metadata": {},
   "outputs": [],
   "source": []
  },
  {
   "cell_type": "markdown",
   "metadata": {},
   "source": [
    "### Exercise 1"
   ]
  },
  {
   "cell_type": "code",
   "execution_count": null,
   "metadata": {},
   "outputs": [],
   "source": [
    "class SingleOrderbook:\n",
    "    \n",
    "    def __init__(self, data, time):\n",
    "        self.list = data[time]\n",
    "        \n",
    "        \n",
    "\n",
    "        "
   ]
  },
  {
   "cell_type": "code",
   "execution_count": null,
   "metadata": {},
   "outputs": [],
   "source": [
    "SingleOrderbook(AAPL, 100)"
   ]
  },
  {
   "cell_type": "code",
   "execution_count": null,
   "metadata": {},
   "outputs": [],
   "source": []
  },
  {
   "cell_type": "code",
   "execution_count": null,
   "metadata": {},
   "outputs": [],
   "source": []
  },
  {
   "cell_type": "code",
   "execution_count": null,
   "metadata": {},
   "outputs": [],
   "source": []
  }
 ],
 "metadata": {
  "kernelspec": {
   "display_name": "Python 3",
   "language": "python",
   "name": "python3"
  },
  "language_info": {
   "codemirror_mode": {
    "name": "ipython",
    "version": 3
   },
   "file_extension": ".py",
   "mimetype": "text/x-python",
   "name": "python",
   "nbconvert_exporter": "python",
   "pygments_lexer": "ipython3",
   "version": "3.6.3"
  }
 },
 "nbformat": 4,
 "nbformat_minor": 2
}
