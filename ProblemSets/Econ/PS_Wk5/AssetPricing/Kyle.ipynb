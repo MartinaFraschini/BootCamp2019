{
 "cells": [
  {
   "cell_type": "markdown",
   "metadata": {},
   "source": [
    "# Asset pricing\n",
    "\n",
    "## Kyle Model - homework\n",
    "\n",
    "Prof. Scott Condie\n",
    "\n",
    "Author: Martina Fraschini"
   ]
  },
  {
   "cell_type": "markdown",
   "metadata": {},
   "source": [
    "### Load data"
   ]
  },
  {
   "cell_type": "code",
   "execution_count": 1,
   "metadata": {},
   "outputs": [],
   "source": [
    "# import packages\n",
    "import numpy as np\n",
    "import pandas as pd\n",
    "from matplotlib import pyplot as plt\n",
    "import pickle\n",
    "import statsmodels.api as sm\n",
    "\n",
    "# Load data\n",
    "with open('AAPL', 'rb') as file_pickle:\n",
    "    AAPL = pickle.load(file_pickle)\n",
    "with open('C', 'rb') as file_pickle:\n",
    "    C = pickle.load(file_pickle)\n",
    "with open('GBX', 'rb') as file_pickle:\n",
    "    GBX = pickle.load(file_pickle)\n",
    "with open('SPY', 'rb') as file_pickle:\n",
    "    SPY = pickle.load(file_pickle)\n",
    "with open('THO', 'rb') as file_pickle:\n",
    "    THO = pickle.load(file_pickle)\n"
   ]
  },
  {
   "cell_type": "code",
   "execution_count": 2,
   "metadata": {},
   "outputs": [
    {
     "name": "stdout",
     "output_type": "stream",
     "text": [
      "(1122, 'B', 43128.198123400005, 104210481.0)\n"
     ]
    }
   ],
   "source": [
    "print(AAPL[320][1][1])"
   ]
  },
  {
   "cell_type": "markdown",
   "metadata": {},
   "source": [
    "### Exercise 1"
   ]
  },
  {
   "cell_type": "code",
   "execution_count": 3,
   "metadata": {},
   "outputs": [],
   "source": [
    "class SingleOrderbook:\n",
    "    \n",
    "    def __init__(self, data, time):\n",
    "        self.list = data[time]\n",
    "        self.time = self.list[0]\n",
    "        df = pd.DataFrame.from_dict(self.list[1], orient='index')\n",
    "        df.columns = [\"Quantity\", \"Order\", \"var1\",\"var2\"]\n",
    "        df = df.drop([\"var1\",\"var2\"], axis = 1)\n",
    "        \n",
    "        self.demand = df[df[\"Order\"] == 'B'].sort_index(ascending=False)\n",
    "        self.supply = df[df[\"Order\"] == 'S'].sort_index()\n",
    "        self.demand[\"CumulativeB\"] = -self.demand['Quantity'].cumsum()\n",
    "        self.supply[\"CumulativeS\"] = self.supply['Quantity'].cumsum()\n",
    "        \n",
    "        # define prices and quantities\n",
    "        self.order = self.demand.merge(self.supply,  how='outer', left_index=True, right_index=True)\n",
    "        self.order = self.order.drop([\"Quantity_x\",\"Order_x\", \"Quantity_y\",\"Order_y\"], axis = 1)\n",
    "        self.order = self.order.fillna(0)\n",
    "        self.order[\"Cumulative\"] = self.order[\"CumulativeB\"] + self.order[\"CumulativeS\"]\n",
    "        self.P0 = self.order[\"Cumulative\"][self.order[\"Cumulative\"] > 0].index.values[0]\n",
    "        myQ = self.order[\"Cumulative\"]\n",
    "        self.Q = myQ[(myQ.index < 1.7*self.P0) & (myQ.index > .3*self.P0)]\n",
    "        self.P = self.Q.index.values\n",
    "\n",
    "    def estimate(self):\n",
    "        X = self.P\n",
    "        X = sm.add_constant(X)\n",
    "        model = sm.OLS(X, self.Q)\n",
    "        res = model.fit()\n",
    "        self.gamma = res.params[0].values\n",
    "        self.beta = res.params[1].values\n",
    "        \n",
    "    def plot_ob(self):\n",
    "        fig = plt.figure(figsize=(10,7))\n",
    "        plt.plot(self.P, self.Q)\n",
    "        plt.plot(self.P, self.gamma + self.beta*self.P)\n",
    "        plt.xlim(self.P0*0.3, self.P0*1.7)\n",
    "        plt.xlabel(\"Price\")\n",
    "        plt.ylabel(\"Quantity\")\n",
    "        plt.show()\n",
    "\n"
   ]
  },
  {
   "cell_type": "code",
   "execution_count": 4,
   "metadata": {},
   "outputs": [
    {
     "data": {
      "image/png": "[encoded data removed]",
      "text/plain": [
       "<Figure size 432x288 with 1 Axes>"
      ]
     },
     "metadata": {},
     "output_type": "display_data"
    }
   ],
   "source": [
    "Apple = SingleOrderbook(AAPL, 100)\n",
    "Apple.estimate()\n",
    "plt.plot(Apple.P, Apple.Q)\n",
    "plt.plot(Apple.P, Apple.gamma + Apple.beta*Apple.P)\n",
    "plt.xlim(Apple.P0*0.3, Apple.P0*1.7)\n",
    "plt.xlabel(\"Price\")\n",
    "plt.ylabel(\"Quantity\")\n",
    "plt.show()"
   ]
  }
 ],
 "metadata": {
  "kernelspec": {
   "display_name": "Python 3",
   "language": "python",
   "name": "python3"
  },
  "language_info": {
   "codemirror_mode": {
    "name": "ipython",
    "version": 3
   },
   "file_extension": ".py",
   "mimetype": "text/x-python",
   "name": "python",
   "nbconvert_exporter": "python",
   "pygments_lexer": "ipython3",
   "version": "3.6.3"
  }
 },
 "nbformat": 4,
 "nbformat_minor": 2
}
