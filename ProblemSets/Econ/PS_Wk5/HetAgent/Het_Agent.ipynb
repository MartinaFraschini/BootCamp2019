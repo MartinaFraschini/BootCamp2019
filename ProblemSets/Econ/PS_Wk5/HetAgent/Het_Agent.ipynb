{
 "cells": [
  {
   "cell_type": "markdown",
   "metadata": {},
   "source": [
    "# Heterogeneous Agents"
   ]
  },
  {
   "cell_type": "code",
   "execution_count": 1,
   "metadata": {},
   "outputs": [],
   "source": [
    "import numpy as np\n",
    "from scipy import optimize\n",
    "import matplotlib.pyplot as plt\n",
    "import random"
   ]
  },
  {
   "cell_type": "code",
   "execution_count": 132,
   "metadata": {},
   "outputs": [],
   "source": [
    "beta = 0.96\n",
    "delta = 0.06\n",
    "alpha = 0.36\n",
    "u = 0.1\n",
    "k_low = 0.001\n",
    "k_high = 40\n",
    "params = beta, delta, alpha, u"
   ]
  },
  {
   "cell_type": "code",
   "execution_count": 133,
   "metadata": {},
   "outputs": [],
   "source": [
    "def get_kstar(kstar, *params):\n",
    "    beta, delta, alpha, u = params\n",
    "    f = (1 - beta*(1 - delta)*(alpha*np.sign(kstar)*np.abs(kstar)**(alpha - 1))*(1 - u)**(1 - alpha) + (1 - alpha)*np.sign(kstar)*np.abs(kstar)**(alpha)*(1 - u)**(-alpha))/(beta*(1 - delta)**(2) - beta*(1 - delta) - (1 - delta) + 1) - kstar\n",
    "    return f"
   ]
  },
  {
   "cell_type": "code",
   "execution_count": 141,
   "metadata": {},
   "outputs": [
    {
     "data": {
      "text/plain": [
       "array([0.10389588])"
      ]
     },
     "execution_count": 141,
     "metadata": {},
     "output_type": "execute_result"
    }
   ],
   "source": [
    "optimize.fsolve(get_kstar, 0.1, params)"
   ]
  },
  {
   "cell_type": "code",
   "execution_count": 135,
   "metadata": {},
   "outputs": [],
   "source": [
    "def get_kbar(params):\n",
    "    beta, delta, alpha, u = params\n",
    "    f = (alpha*beta/(1 - beta*(1- delta)))**(1/(1 - alpha))\n",
    "    return f"
   ]
  },
  {
   "cell_type": "code",
   "execution_count": 136,
   "metadata": {},
   "outputs": [],
   "source": [
    "def hetagents(kbar, k_low, k_high, params, N = 200, thresh = 1e-16, maxiters = 1000):\n",
    "    beta, delta, alpha, u = params\n",
    "    random.seed(111)\n",
    "    kgrid = np.linspace(k_low, k_high, N)\n",
    "    diff = 15\n",
    "    V_old = np.zeros((2,N))\n",
    "    V_new = np.zeros_like(V_old)\n",
    "    c = np.zeros_like(V_old)\n",
    "    u = np.zeros_like(V_old)\n",
    "    policyfun = np.zeros_like(V_old)\n",
    "    u = 0.1\n",
    "    transition = np.array([[0.9, 0.1], [0.9, 0.1]])\n",
    "    itr = 0\n",
    "    \n",
    "    while diff > thresh and itr <= maxiters:\n",
    "        for i in range(len(kgrid)):\n",
    "            k = kgrid[i]\n",
    "            #Compute r(kbar) and w(kbar)\n",
    "            r = alpha*kbar**(alpha - 1)*(1 - u)**(1 - alpha)\n",
    "            w = (1 - alpha)*kbar**(alpha)*(1 - u)**(-alpha)\n",
    "            c[0, :] = r*k + w*1 + (1 - delta)*k - kgrid\n",
    "            c[1, :] = r*k + w*0 + (1 - delta)*k - kgrid   \n",
    "            obj = np.zeros_like(V_old)\n",
    "            obj[c <= 0] = -999999\n",
    "            obj[c > 0]= np.log(c[c > 0])\n",
    "            V_almost = obj + beta*(np.dot(transition, V_old))\n",
    "            V_new[:, i] = np.amax(V_almost, axis = 1) \n",
    "            max_indicies = np.argmax(V_almost, axis = 1)\n",
    "            policyfun[:, i] = kgrid[max_indicies]\n",
    "        diff = np.linalg.norm(V_new - V_old)**(2)\n",
    "        V_old = V_new.copy()\n",
    "        itr += 1\n",
    "        \n",
    "        if diff <= thresh or itr == maxiters:\n",
    "            print(\"Iteration:\", str(itr), str(diff))\n",
    "        \n",
    "    return policyfun, V_new, kgrid"
   ]
  },
  {
   "cell_type": "code",
   "execution_count": 137,
   "metadata": {},
   "outputs": [
    {
     "name": "stdout",
     "output_type": "stream",
     "text": [
      "Iteration: 485 9.839947355591388e-17\n"
     ]
    }
   ],
   "source": [
    "kbar = get_kbar(params)\n",
    "policyfun, V_new, kgrid = hetagents(kbar, k_low, k_high, params, N = 200, thresh = 1e-16, maxiters = 1000)"
   ]
  },
  {
   "cell_type": "code",
   "execution_count": 139,
   "metadata": {},
   "outputs": [
    {
     "data": {
      "image/png": "[encoded data removed]",
      "text/plain": [
       "<Figure size 432x288 with 1 Axes>"
      ]
     },
     "metadata": {
      "needs_background": "light"
     },
     "output_type": "display_data"
    }
   ],
   "source": [
    "fig = plt.figure()\n",
    "plt.plot(kgrid, policyfun[0, :], color = \"g\", label = \"Policy eps = 1\")\n",
    "plt.plot(kgrid, policyfun[1, :], color = \"b\", label = \"Policy eps = 0\")\n",
    "plt.plot(kgrid, kgrid, color = \"purple\", label = \"45° line\")\n",
    "plt.legend()\n",
    "plt.show();"
   ]
  },
  {
   "cell_type": "code",
   "execution_count": 138,
   "metadata": {},
   "outputs": [],
   "source": [
    "def finalfun(params, kbar, thresh = 1e-16, maxiters = 1000):\n",
    "    t = 10000\n",
    "    capital_series = np.zeros(t)\n",
    "    itr = 0\n",
    "    diff = 15\n",
    "    random.seed(111)\n",
    "    \n",
    "    while (diff > thresh and itr <= maxiters):\n",
    "        policyfun, V_new, kgrid =  hetagents(kbar,k_low, k_high, params, N = 200, thresh = 1e-16, maxiters = 1000)\n",
    "        k = random.choice(kgrid)\n",
    "        capital_series[0] = k\n",
    "        \n",
    "        for i in range(1, t):\n",
    "            epsilon = np.random.binomial(1, 0.9, 1)\n",
    "            if epsilon == 1:\n",
    "                k = policyfun[0, np.where(kgrid == k)[0]]\n",
    "            else:\n",
    "                k = policyfun[1, np.where(kgrid == k)[0]]\n",
    "            capital_series[i] = k\n",
    "        kbar_new = np.mean(capital_series)\n",
    "        diff = kbar_new - kbar\n",
    "        kbar = kbar_new.copy()\n",
    "        itr += 1\n",
    "        \n",
    "        if diff <= thresh or itr==maxiters:\n",
    "            print(\"Iteration:\", str(itr), str(diff))\n",
    "        \n",
    "    return kbar_new"
   ]
  },
  {
   "cell_type": "code",
   "execution_count": 116,
   "metadata": {},
   "outputs": [
    {
     "name": "stdout",
     "output_type": "stream",
     "text": [
      "Iteration: 486 9.31531264044396e-17\n",
      "Iteration: 1 -4.964808857423627\n"
     ]
    },
    {
     "data": {
      "text/plain": [
       "2.2463675351758794"
      ]
     },
     "execution_count": 116,
     "metadata": {},
     "output_type": "execute_result"
    }
   ],
   "source": [
    "kbar = get_kbar(params)\n",
    "finalfun(params, kbar, thresh = 1e-16, maxiters = 1000)"
   ]
  }
 ],
 "metadata": {
  "kernelspec": {
   "display_name": "Python 3",
   "language": "python",
   "name": "python3"
  },
  "language_info": {
   "codemirror_mode": {
    "name": "ipython",
    "version": 3
   },
   "file_extension": ".py",
   "mimetype": "text/x-python",
   "name": "python",
   "nbconvert_exporter": "python",
   "pygments_lexer": "ipython3",
   "version": "3.6.3"
  }
 },
 "nbformat": 4,
 "nbformat_minor": 2
}
