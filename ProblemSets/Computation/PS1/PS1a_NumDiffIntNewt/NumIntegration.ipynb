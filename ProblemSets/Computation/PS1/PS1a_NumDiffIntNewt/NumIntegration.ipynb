{
 "cells": [
  {
   "cell_type": "markdown",
   "metadata": {},
   "source": [
    "# BootCamp 2019 - Week 1\n",
    "\n",
    "## Numerical Integration\n",
    "\n",
    "Author: Martina Fraschini"
   ]
  },
  {
   "cell_type": "code",
   "execution_count": 1,
   "metadata": {},
   "outputs": [],
   "source": [
    "# import packages\n",
    "import numpy as np\n",
    "from matplotlib import pyplot as plt"
   ]
  },
  {
   "cell_type": "markdown",
   "metadata": {},
   "source": [
    "### Problem 2.1"
   ]
  },
  {
   "cell_type": "code",
   "execution_count": 2,
   "metadata": {},
   "outputs": [
    {
     "name": "stdout",
     "output_type": "stream",
     "text": [
      "Integrating the function with N = 100 :\n",
      "- the error of method trapezoid is 40.96842676676806\n",
      "- the error of method midpoint is 169.8315732332312\n",
      "- the error of method Simpsons is 7.729273977781304\n"
     ]
    }
   ],
   "source": [
    "# define the function\n",
    "def integrate(g, a, b, N, method):\n",
    "    if method == 'midpoint':\n",
    "        x = np.linspace(a,b,N)\n",
    "        return ((b-a)/N) * sum(g(x))\n",
    "    elif method == 'trapezoid':\n",
    "        x = np.linspace(a,b,N)\n",
    "        return ((b-a)/(2*N)) * (g(x[0]) + g(x[-1]) + 2*sum(g(x[1:-1])))\n",
    "    elif method == 'Simpsons':\n",
    "        x = np.linspace(a,b,2*N)\n",
    "        return ((b-a)/(6*N)) * (g(x[0]) + g(x[-1]) + 4*sum(g(x[1:-2:2])) + 2*sum(g(x[2:-1:2])))\n",
    "    else:\n",
    "        print(\"Invalid method. Please, try again.\")\n",
    "        return\n",
    "    \n",
    "# demo for function\n",
    "g = lambda x: .1*x**4 - 1.5*x**3 + .53*x**2 + 2*x + 1\n",
    "a = -10\n",
    "b = 10\n",
    "N = 100\n",
    "rightinteg = 4373.3333\n",
    "methods = {'midpoint', 'trapezoid', 'Simpsons'}\n",
    "\n",
    "# comparison\n",
    "print(\"Integrating the function with N =\", N, \":\")\n",
    "for met in methods:\n",
    "    integ = integrate(g, a, b, N, met)\n",
    "    print(\"- the error of method\", met, \"is\", abs(rightinteg-integ))"
   ]
  },
  {
   "cell_type": "markdown",
   "metadata": {},
   "source": [
    "### Problem 2.2"
   ]
  },
  {
   "cell_type": "code",
   "execution_count": 3,
   "metadata": {},
   "outputs": [
    {
     "data": {
      "image/png": "[encoded data removed]",
      "text/plain": [
       "<Figure size 432x288 with 1 Axes>"
      ]
     },
     "metadata": {},
     "output_type": "display_data"
    }
   ],
   "source": [
    "# import package\n",
    "from scipy.stats import norm\n",
    "import sys\n",
    "# define function\n",
    "def normal_distr(mu, sigma, N, k):\n",
    "    Z = np.linspace(mu-k,mu+k,N)\n",
    "    w = np.zeros_like(Z)\n",
    "    w[0] = norm(mu,sigma).cdf((Z[0]+Z[1])/2)\n",
    "    w[-1] = 1 - norm(mu,sigma).cdf((Z[-2]+Z[-1])/2)\n",
    "    for i in range(1,N-1):\n",
    "        a = (Z[i-1] + Z[i]) / 2\n",
    "        b = (Z[i] + Z[i+1]) / 2\n",
    "        w[i] = (b-a) * norm(mu,sigma).pdf(Z[i])\n",
    "    return Z, w\n",
    "\n",
    "myZ, myw = normal_distr(0, 1, 11, 3)\n",
    "plt.plot(myZ,myw)\n",
    "plt.xlabel(\"nodes \"+r\"$Z$\")\n",
    "plt.ylabel(\"weights \"+r\"$\\omega$\")\n",
    "plt.show()"
   ]
  },
  {
   "cell_type": "markdown",
   "metadata": {},
   "source": [
    "### Problem 2.3"
   ]
  },
  {
   "cell_type": "code",
   "execution_count": 4,
   "metadata": {},
   "outputs": [
    {
     "data": {
      "image/png": "[encoded data removed]",
      "text/plain": [
       "<Figure size 432x288 with 1 Axes>"
      ]
     },
     "metadata": {},
     "output_type": "display_data"
    }
   ],
   "source": [
    "# def function (I don't redefine the function normal_distr)\n",
    "def lognormal_distr(mu, sigma, N, k):\n",
    "    Z, w = normal_distr(mu, sigma, N, k)\n",
    "    return np.exp(Z), w\n",
    "\n",
    "myA, myw = lognormal_distr(0, 1, 11, 3)\n",
    "\n",
    "plt.plot(myA,myw)\n",
    "plt.xlabel(\"nodes \"+r\"$A$\")\n",
    "plt.ylabel(\"weights \"+r\"$\\omega$\")\n",
    "plt.show()"
   ]
  },
  {
   "cell_type": "markdown",
   "metadata": {},
   "source": [
    "### Problem 2.4"
   ]
  },
  {
   "cell_type": "code",
   "execution_count": 5,
   "metadata": {
    "scrolled": true
   },
   "outputs": [
    {
     "name": "stdout",
     "output_type": "stream",
     "text": [
      "The approximated expected value is 50061.64\n",
      "The exact expected value is 50011.09\n"
     ]
    }
   ],
   "source": [
    "# I don't redefine the funcions normal_distr and lognormal_distr\n",
    "mymu = 10.5\n",
    "mysigma = .8\n",
    "N = 11\n",
    "\n",
    "myA, myw = lognormal_distr(mymu, mysigma, N, 3)\n",
    "\n",
    "# approximated expected value\n",
    "average = sum(myA*myw)/sum(myw)\n",
    "print(\"The approximated expected value is\", round(average,2))\n",
    "print(\"The exact expected value is\", round(np.exp(10.5+(0.8**2)/2),2))"
   ]
  },
  {
   "cell_type": "markdown",
   "metadata": {},
   "source": [
    "### Problem 3.1"
   ]
  },
  {
   "cell_type": "code",
   "execution_count": 6,
   "metadata": {},
   "outputs": [
    {
     "name": "stdout",
     "output_type": "stream",
     "text": [
      "The error of the integral approximation with the Gaussian quadrature is 3.3688500479911454e-05\n"
     ]
    }
   ],
   "source": [
    "# import package\n",
    "import scipy\n",
    "\n",
    "# define functions\n",
    "def gausseq(x):\n",
    "    a = - 10\n",
    "    b = 10\n",
    "    return [x[3] + x[4] + x[5] - b + a,\n",
    "            x[3]*x[0] + x[4]*x[1] + x[5]*x[2],\n",
    "            x[3]*x[0]**2 + x[4]*x[1]**2 + x[5]*x[2]**2 - (b**3 - a**3)/3,\n",
    "            x[3]*x[0]**3 + x[4]*x[1]**3 + x[5]*x[2]**3,\n",
    "            x[3]*x[0]**4 + x[4]*x[1]**4 + x[5]*x[2]**4 - (b**5 - a**5)/5,\n",
    "            x[3]*x[0]**5 + x[4]*x[1]**5 + x[5]*x[2]**5]\n",
    "\n",
    "def gauss3_quad(g):\n",
    "    sol = scipy.optimize.root(gausseq,[.5,.5,.5,.5,.5,.5])\n",
    "    w = sol.x[3:]\n",
    "    x = sol.x[:3]\n",
    "    return sum(w * g(x))\n",
    "\n",
    "# demo for the function\n",
    "g = lambda x: .1*x**4 - 1.5*x**3 + .53*x**2 + 2*x + 1\n",
    "\n",
    "gauss_integ = gauss3_quad(g)\n",
    "print(\"The error of the integral approximation with the Gaussian quadrature is\", abs(rightinteg-gauss_integ))"
   ]
  },
  {
   "cell_type": "markdown",
   "metadata": {},
   "source": [
    "### Problem 3.2"
   ]
  },
  {
   "cell_type": "code",
   "execution_count": 7,
   "metadata": {},
   "outputs": [
    {
     "name": "stdout",
     "output_type": "stream",
     "text": [
      "The error of the Python function is 3.333333370392211e-05\n"
     ]
    }
   ],
   "source": [
    "g = lambda x: .1*x**4 - 1.5*x**3 + .53*x**2 + 2*x + 1\n",
    "a = -10\n",
    "b = 10\n",
    "\n",
    "python_quad = scipy.integrate.quad(g,a,b)\n",
    "print(\"The error of the Python function is\", abs(rightinteg-python_quad[0]))"
   ]
  },
  {
   "cell_type": "markdown",
   "metadata": {},
   "source": [
    "### Problem 4.1"
   ]
  },
  {
   "cell_type": "code",
   "execution_count": 8,
   "metadata": {},
   "outputs": [
    {
     "name": "stdout",
     "output_type": "stream",
     "text": [
      "The smallest number of random draws to match the true value of pi to the 4th decimal is 410\n"
     ]
    }
   ],
   "source": [
    "# import package\n",
    "import random\n",
    "\n",
    "# define function\n",
    "def mypi(N):\n",
    "    random.seed(25)\n",
    "    sumg = 0\n",
    "    for i in range(N):\n",
    "        x = random.uniform(-1,1)\n",
    "        y = random.uniform(-1,1)\n",
    "        if (x**2)+(y**2) <= 1:\n",
    "            sumg += 1\n",
    "    return 4.0 * sumg / N\n",
    "\n",
    "# find the small number of draws to match pi\n",
    "n = 0\n",
    "while True:\n",
    "    n += 1\n",
    "    approxpi = mypi(n)\n",
    "    if round(approxpi,4)==3.1415:\n",
    "        break\n",
    "        \n",
    "print(\"The smallest number of random draws to match the true value of pi to the 4th decimal is\", n)"
   ]
  }
 ],
 "metadata": {
  "kernelspec": {
   "display_name": "Python 3",
   "language": "python",
   "name": "python3"
  },
  "language_info": {
   "codemirror_mode": {
    "name": "ipython",
    "version": 3
   },
   "file_extension": ".py",
   "mimetype": "text/x-python",
   "name": "python",
   "nbconvert_exporter": "python",
   "pygments_lexer": "ipython3",
   "version": "3.6.3"
  }
 },
 "nbformat": 4,
 "nbformat_minor": 2
}
