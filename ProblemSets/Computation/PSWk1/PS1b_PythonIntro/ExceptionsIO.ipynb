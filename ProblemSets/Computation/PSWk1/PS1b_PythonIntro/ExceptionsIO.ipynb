{
 "cells": [
  {
   "cell_type": "markdown",
   "metadata": {},
   "source": [
    "# BootCamp 2019 - Week 1\n",
    "\n",
    "## PyIntro - Exceptions and I/O\n",
    "\n",
    "Author: Martina Fraschini"
   ]
  },
  {
   "cell_type": "markdown",
   "metadata": {},
   "source": [
    "### Problem 1"
   ]
  },
  {
   "cell_type": "raw",
   "metadata": {},
   "source": [
    "100a+10b+c\n",
    "100c+10b+a\n",
    "\n",
    "Difference if a > c (without loss of generality):\n",
    "100a+10b+c - 100c+10b+a = 100(a-c) + (c-a) +100-100\n",
    "                        = 100(a-c-1) + 90 + (10+c-a)\n",
    "                        = 100x + 10*9 + y = x9y\n",
    "                        \n",
    "x + y = (a-c-1) + (10+c-a) = 9\n",
    "\n",
    "x9y + y9x = 100x+90+y + 100y+90+x\n",
    "          = 100(x+y) + 90+90 + (x+y)\n",
    "          = 100*9 + 180 + 9 \n",
    "          = 1089"
   ]
  },
  {
   "cell_type": "code",
   "execution_count": 1,
   "metadata": {},
   "outputs": [
    {
     "name": "stdout",
     "output_type": "stream",
     "text": [
      "Enter a 3-digit number where the first and last digits differ by 2 or more: 345\n",
      "Enter the reverse of the first number, obtained by reading it backwards: 543\n",
      "Enter the positive difference of these numbers: 198\n",
      "Enter the reverse of the previous result: 891\n",
      "198 + 891 = 1089 (ta-da!)\n"
     ]
    }
   ],
   "source": [
    "def arithmagic():\n",
    "    \n",
    "    step_1 = input(\"Enter a 3-digit number where the first and last digits differ by 2 or more: \")\n",
    "    if int(step_1) < 100 or int(step_1) > 999:\n",
    "        raise ValueError(\"This is not a 3-digit number.\")\n",
    "    if abs(int(step_1[0])-int(step_1[2])) < 2:\n",
    "        raise ValueError(\"The first and the last digits differ by less than 2.\")\n",
    "    \n",
    "    step_2 = input(\"Enter the reverse of the first number, obtained by reading it backwards: \")\n",
    "    if int(step_2[0])==int(step_1[2]) and int(step_2[1])==int(step_1[1]) and int(step_2[2])==int(step_1[0]):\n",
    "        pass\n",
    "    else:\n",
    "        raise ValueError(\"This is not the reverse of the first number.\")\n",
    "    \n",
    "    step_3 = input(\"Enter the positive difference of these numbers: \")\n",
    "    if int(step_3) != abs(int(step_1)-int(step_2)):\n",
    "        raise ValueError(\"This is not the positive difference of the first two numbers.\")\n",
    "    \n",
    "    step_4 = input(\"Enter the reverse of the previous result: \")\n",
    "    if int(step_4[0])==int(step_3[2]) and int(step_4[1])==int(step_3[1]) and int(step_4[2])==int(step_3[0]):\n",
    "        pass\n",
    "    else:\n",
    "        raise ValueError(\"This is not the reverse of the previous number.\")\n",
    "    \n",
    "    print(str(step_3), \"+\", str(step_4), \"= 1089 (ta-da!)\")\n",
    "    \n",
    "arithmagic()"
   ]
  },
  {
   "cell_type": "markdown",
   "metadata": {},
   "source": [
    "### Problem 2"
   ]
  },
  {
   "cell_type": "code",
   "execution_count": 2,
   "metadata": {},
   "outputs": [
    {
     "name": "stdout",
     "output_type": "stream",
     "text": [
      "Process interrupted at iteration 3623978\n",
      "Walk = -458\n"
     ]
    }
   ],
   "source": [
    "from random import choice\n",
    "\n",
    "def random_walk(max_iters=1e12):\n",
    "    walk = 0\n",
    "    directions = [1, -1]\n",
    "    for i in range(int(max_iters)):\n",
    "        try:\n",
    "            walk += choice(directions)\n",
    "        except KeyboardInterrupt:\n",
    "            print(\"Process interrupted at iteration {}\".format(i))\n",
    "            return walk\n",
    "        \n",
    "    print(\"Process completed.\")\n",
    "    return walk\n",
    "\n",
    "walk = random_walk()\n",
    "print(\"Walk =\", walk)"
   ]
  },
  {
   "cell_type": "markdown",
   "metadata": {},
   "source": [
    "### Problem 3"
   ]
  },
  {
   "cell_type": "code",
   "execution_count": 3,
   "metadata": {},
   "outputs": [
    {
     "name": "stdout",
     "output_type": "stream",
     "text": [
      "Please enter a valid file name: idk.txt\n",
      "Please enter a valid file name: placeholder.txt\n",
      "The file is closed:  True\n"
     ]
    }
   ],
   "source": [
    "class ContentFilter:\n",
    "    \"\"\"A ContentFilter object class. It reads a file.\n",
    "    \n",
    "    Attributes:\n",
    "        file (str): the name of the file to read.\n",
    "    \"\"\"\n",
    "    \n",
    "    def __init__(self, filename):\n",
    "        \"\"\"\n",
    "        It accepts the name of the file. \n",
    "        If the file name is invalid, it continues prompting the user until they provide a valid one. \n",
    "        Parameters:\n",
    "            filename (str): the name of the file to read.\n",
    "            file (str): the file object.\n",
    "            contents (int): the contents of the file.\n",
    "        \"\"\"\n",
    "        while True:\n",
    "            try:\n",
    "                self.filename = filename\n",
    "                self.file = open(filename, 'r')\n",
    "                self.contents = self.file.readlines()\n",
    "                self.file.close()\n",
    "                break\n",
    "            except FileNotFoundError:\n",
    "                filename = input(\"Please enter a valid file name: \")\n",
    "            except TypeError:\n",
    "                filename = input(\"Please enter a valid file name: \")\n",
    "            except OSError:\n",
    "                filename = input(\"Please enter a valid file name: \")\n",
    "\n",
    "myfile = ContentFilter(\"hello_world.txt\")\n",
    "print(\"The file is closed: \", myfile.file.closed)"
   ]
  },
  {
   "cell_type": "markdown",
   "metadata": {},
   "source": [
    "### Problem 4"
   ]
  },
  {
   "cell_type": "code",
   "execution_count": 4,
   "metadata": {},
   "outputs": [],
   "source": [
    "class ContentFilter:\n",
    "    \"\"\"A ContentFilter object class. It reads a file.\n",
    "    \n",
    "    Attributes:\n",
    "        file (str): the name of the file to read.\n",
    "    \"\"\"\n",
    "    \n",
    "    def __init__(self, filename):\n",
    "        \"\"\"\n",
    "        It accepts the name of the file. \n",
    "        If the file name is invalid, it continues prompting the user until they provide a valid one. \n",
    "        Parameters:\n",
    "            filename (str): the name of the file to read.\n",
    "            file (str): the file object.\n",
    "            contents (int): the contents of the file.\n",
    "        \"\"\"\n",
    "        while True:\n",
    "            try:\n",
    "                self.filename = filename\n",
    "                self.file = open(filename, 'r')\n",
    "                self.contents = self.file.readlines()\n",
    "                self.file.close()\n",
    "                break\n",
    "            except FileNotFoundError:\n",
    "                filename = input(\"Please enter a valid file name: \")\n",
    "            except TypeError:\n",
    "                filename = input(\"Please enter a valid file name: \")\n",
    "            except OSError:\n",
    "                filename = input(\"Please enter a valid file name: \")\n",
    "\n",
    "    def uniform(self,outfilename,mode='w',case='upper'):\n",
    "        \"\"\"Write the data to the outfile with uniform case.\"\"\"\n",
    "        if mode not in ['w', 'x', 'a']:\n",
    "            raise ValueError(\"Not a valid mode.\")\n",
    "        with open(outfilename, mode) as outfile:\n",
    "            if case == 'upper':\n",
    "                outfile.write(self.contents.upper())\n",
    "            elif case == 'lower':\n",
    "                outfile.write(self.contents.lower())\n",
    "            else:\n",
    "                raise ValueError(\"Not a valide case.\")\n",
    "                \n",
    "    def reverse(self,outfilename,mode='w',unit=\"line\"):\n",
    "        \"\"\"Write the data to the outfile in reverse order.\"\"\"\n",
    "        if mode not in ['w', 'x', 'a']:\n",
    "            raise ValueError(\"Not a valid mode.\")\n",
    "        with open(outfilename, mode) as outfile:\n",
    "            if unit == \"word\":\n",
    "                lines = self.contents.split('\\n')\n",
    "                for l in lines:\n",
    "                    words = l.split()\n",
    "                    words = words[-1::-1] \n",
    "                    outfile.write(\" \".join(words)+\"\\n\")\n",
    "            elif unit == \"line\":\n",
    "                lines = self.contents.split('\\n')\n",
    "                lines = lines[-1::-1]\n",
    "                outfile.write(\"\\n\".join(lines)+\"\\n\")\n",
    "            else:\n",
    "                raise ValueError(\"Not a valit unit.\")\n",
    "                \n",
    "    def transpose(self,outfilename,mode='w'):\n",
    "        \"\"\"Write a “transposed” version of the data to the outfile.\"\"\"\n",
    "        if mode not in ['w', 'x', 'a']:\n",
    "            raise ValueError(\"Not a valid mode.\")\n",
    "        with open(outfilename, mode) as outfile:\n",
    "            lines = self.contents.split('\\n')\n",
    "            for ii in range(len(lines)):\n",
    "                for jj in range(len(lines)):\n",
    "                    words = lines[jj].split()\n",
    "                    outfile.write(words[ii]+\" \")\n",
    "                outfile.write(words[ii]+\"/n\")\n",
    "                \n",
    "    def __str__(self):\n",
    "        return \"Source file\\t\\t\\t:\"+self.filename+\"Total characters:\\t\\t\"+str(len(self.contents))+\\\n",
    "                \"Alphabetic characters:\\t\"+str(sum(self.contents.isalpha()))+\"Etc...\"\n",
    "                    \n",
    "        "
   ]
  },
  {
   "cell_type": "code",
   "execution_count": 5,
   "metadata": {},
   "outputs": [
    {
     "name": "stdout",
     "output_type": "stream",
     "text": [
      "Sorry, no time for demo of the class!\n"
     ]
    }
   ],
   "source": [
    "print(\"Sorry, no time for demo of the class!\")"
   ]
  }
 ],
 "metadata": {
  "kernelspec": {
   "display_name": "Python 3",
   "language": "python",
   "name": "python3"
  },
  "language_info": {
   "codemirror_mode": {
    "name": "ipython",
    "version": 3
   },
   "file_extension": ".py",
   "mimetype": "text/x-python",
   "name": "python",
   "nbconvert_exporter": "python",
   "pygments_lexer": "ipython3",
   "version": "3.6.3"
  }
 },
 "nbformat": 4,
 "nbformat_minor": 2
}
