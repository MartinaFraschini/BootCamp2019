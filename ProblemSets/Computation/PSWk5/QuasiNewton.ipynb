{
 "cells": [
  {
   "cell_type": "markdown",
   "metadata": {},
   "source": [
    "# BootCamp 2019 - Week 5\n",
    "\n",
    "## Newton and Quasi Newton Method\n",
    "\n",
    "Author: Martina Fraschini"
   ]
  },
  {
   "cell_type": "code",
   "execution_count": 1,
   "metadata": {},
   "outputs": [],
   "source": [
    "# import packages\n",
    "import numpy as np\n",
    "from scipy import linalg as la\n",
    "from scipy import optimize as opt\n",
    "import time\n",
    "from matplotlib import pyplot as plt"
   ]
  },
  {
   "cell_type": "markdown",
   "metadata": {},
   "source": [
    "### Problem 1"
   ]
  },
  {
   "cell_type": "code",
   "execution_count": 2,
   "metadata": {},
   "outputs": [
    {
     "name": "stdout",
     "output_type": "stream",
     "text": [
      "The algorithm converged in 4 iterations.\n",
      "The minimizer is  [1. 1.]\n",
      "The value of the funciton is  1.8096151744628943e-19\n"
     ]
    }
   ],
   "source": [
    "# define a function that implements the Newton method\n",
    "def myNewton(Df, D2f, x0, maxiter, tol):\n",
    "    convergence = False\n",
    "    x_old = np.copy(x0)\n",
    "    Dfx = Df(x_old)\n",
    "    for k in range(maxiter):\n",
    "        z = la.solve(D2f(x_old), Dfx)\n",
    "        x_new = x_old - z\n",
    "        Dfx = Df(x_new)\n",
    "        err = la.norm(Dfx, np.inf)\n",
    "        if err < tol:\n",
    "            convergence = True\n",
    "            return x_new, convergence, k\n",
    "        else:\n",
    "            x_old = np.copy(x_new)\n",
    "    \n",
    "    return x_new, convergence, k\n",
    "\n",
    "f = opt.rosen\n",
    "df = opt.rosen_der\n",
    "d2f = opt.rosen_hess\n",
    "x0 = np.array([-2,2])\n",
    "x_star, conv, nit = myNewton(df, d2f, x0, 500, 1e-08)\n",
    "if conv:\n",
    "    print(\"The algorithm converged in {} iterations.\".format(nit))\n",
    "    print(\"The minimizer is \", x_star)\n",
    "    print(\"The value of the funciton is \", f(x_star))\n",
    "else:\n",
    "    print(\"The algorithm didn't converge.\")"
   ]
  },
  {
   "cell_type": "markdown",
   "metadata": {},
   "source": [
    "### Problem 2"
   ]
  },
  {
   "cell_type": "code",
   "execution_count": 3,
   "metadata": {},
   "outputs": [
    {
     "name": "stdout",
     "output_type": "stream",
     "text": [
      "The algorithm converged in 145 iterations.\n",
      "The minimizer is  [1. 1.]\n",
      "The value of the funciton is  4.808866269541495e-20\n"
     ]
    }
   ],
   "source": [
    "# define a function that implements the BFGS method\n",
    "def myBFGS(Df, x0, maxiter, tol):\n",
    "    invA_old = np.eye(len(x0))\n",
    "    convergence = False\n",
    "    x_old = np.copy(x0)\n",
    "    Dfx_old = Df(x_old)\n",
    "    for k in range(maxiter):\n",
    "        x_new = x_old - invA_old @ Dfx_old.T\n",
    "        \n",
    "        Dfx_new = Df(x_new)\n",
    "        s = x_new - x_old\n",
    "        y = Dfx_new.T - Dfx_old.T\n",
    "        sy2 = (s.T@y)**2\n",
    "        if sy2 == 0:\n",
    "            return x_new, convergence, k\n",
    "        term1 = (s.T@y + y.T@invA_old@y) * np.outer(s,s) / sy2\n",
    "        term2 = (invA_old@np.outer(y,s) + np.outer(s,y)@invA_old) / (s.T@y)\n",
    "        invA_new = invA_old + term1 - term2\n",
    "        \n",
    "        err = la.norm(Dfx_new, np.inf)\n",
    "        if err < tol:\n",
    "            convergence = True\n",
    "            return x_new, convergence, k\n",
    "        else:\n",
    "            x_old = np.copy(x_new)\n",
    "            Dfx_old = np.copy(Dfx_new)\n",
    "            invA_old = np.copy(invA_new)\n",
    "    \n",
    "    return x_new, convergence, k\n",
    "\n",
    "f = opt.rosen\n",
    "df = opt.rosen_der\n",
    "d2f = opt.rosen_hess\n",
    "x0 = np.array([-2,2])\n",
    "x_star, conv, nit = myBFGS(df, x0, 500, 1e-08)\n",
    "if conv:\n",
    "    print(\"The algorithm converged in {} iterations.\".format(nit))\n",
    "    print(\"The minimizer is \", x_star)\n",
    "    print(\"The value of the funciton is \", f(x_star))\n",
    "else:\n",
    "    print(\"The algorithm didn't converge.\")"
   ]
  },
  {
   "cell_type": "markdown",
   "metadata": {},
   "source": [
    "### Problem 3"
   ]
  },
  {
   "cell_type": "code",
   "execution_count": 4,
   "metadata": {},
   "outputs": [
    {
     "data": {
      "image/png": "[encoded data removed]",
      "text/plain": [
       "<Figure size 432x288 with 1 Axes>"
      ]
     },
     "metadata": {},
     "output_type": "display_data"
    }
   ],
   "source": [
    "def testmethods(N):\n",
    "    time_myNewt = np.empty(N)\n",
    "    time_myBFGS = np.empty(N)\n",
    "    time_pyBFGS = np.empty(N)\n",
    "    nit_myNewt = np.empty(N)\n",
    "    nit_myBFGS = np.empty(N)\n",
    "    nit_pyBFGS = np.empty(N)\n",
    "    \n",
    "    f = opt.rosen\n",
    "    df = opt.rosen_der\n",
    "    d2f = opt.rosen_hess\n",
    "    \n",
    "    for n in range(N):\n",
    "        x0 = np.array([np.random.random(), np.random.random()])\n",
    "        x0 = 6 * x0 - 3\n",
    "        \n",
    "        # My Netwton method\n",
    "        start = time.time()\n",
    "        _, _, nit_myNewt[n] = myNewton(df, d2f, x0, 500, 1e-08)\n",
    "        time_myNewt[n] = time.time() - start\n",
    "        \n",
    "        # My BFGS method\n",
    "        start = time.time()\n",
    "        _, _, nit_myBFGS[n] = myBFGS(df, x0, 500, 1e-08)\n",
    "        time_myBFGS[n] = time.time() - start\n",
    "        \n",
    "        # Python minimizer\n",
    "        start = time.time()\n",
    "        output = opt.fmin_bfgs(f=f, x0=x0, fprime=df, maxiter=500, disp=False, retall=True)\n",
    "        nit_pyBFGS[n] = len(output[1])\n",
    "        time_pyBFGS[n] = time.time() - start\n",
    "    \n",
    "    plt.loglog(time_myNewt, nit_myNewt, 'o', alpha=0.4, label=\"Newton's method\")\n",
    "    plt.loglog(time_myBFGS, nit_myBFGS, 'o', alpha=0.4, label=\"BFGS\")\n",
    "    plt.loglog(time_pyBFGS, nit_pyBFGS, 'o', alpha=0.4, label=\"scipy.optimize.fmin_bfgs()\")\n",
    "    plt.xlabel(\"Time (seconds)\")\n",
    "    plt.ylabel(\"Iterations\")\n",
    "    plt.legend()\n",
    "    plt.show()\n",
    "    \n",
    "testmethods(100)"
   ]
  },
  {
   "cell_type": "markdown",
   "metadata": {},
   "source": [
    "### Problem 4"
   ]
  },
  {
   "cell_type": "code",
   "execution_count": 5,
   "metadata": {},
   "outputs": [
    {
     "name": "stdout",
     "output_type": "stream",
     "text": [
      "The algorithm converged in 6 iterations.\n",
      "The minimizer is  [3.33061952 0.52240662]\n"
     ]
    }
   ],
   "source": [
    "def myGaussNewton(phi, r, J, x0, maxiter, tol):\n",
    "    convergence = False\n",
    "    x_old = np.copy(x0)\n",
    "    Jx = J(x_old)\n",
    "    for k in range(maxiter):\n",
    "        z = la.solve(Jx.T@Jx, Jx.T@r(x_old))\n",
    "        x_new = x_old - z\n",
    "        Jx = J(x_new)\n",
    "        err = la.norm(x_new-x_old, np.inf)\n",
    "        if err < tol:\n",
    "            convergence = True\n",
    "            return x_new, convergence, k\n",
    "        else:\n",
    "            x_old = np.copy(x_new)\n",
    "            \n",
    "    return x_new, convergence, k\n",
    "\n",
    "T = np.arange(10)\n",
    "y = 3*np.sin(0.5*T)+ 0.5*np.random.randn(10)\n",
    "model = lambda x, t: x[0]*np.sin(x[1]*t)\n",
    "residual = lambda x: model(x, T) - y\n",
    "jac = lambda x: np.column_stack((np.sin(x[1]*T), x[0]*T*np.cos(x[1]*T)))\n",
    "x0 = np.array([2.5,.6])\n",
    "\n",
    "x_star, conv, nit = myGaussNewton(model, residual, jac, x0, maxiter=10, tol=1e-8)\n",
    "\n",
    "if conv:\n",
    "    print(\"The algorithm converged in {} iterations.\".format(nit))\n",
    "    print(\"The minimizer is \", x_star)\n",
    "else:\n",
    "    print(\"The algorithm didn't converge.\")"
   ]
  },
  {
   "cell_type": "code",
   "execution_count": 6,
   "metadata": {},
   "outputs": [
    {
     "name": "stdout",
     "output_type": "stream",
     "text": [
      "[3.33061948 0.52240663]\n"
     ]
    }
   ],
   "source": [
    "minx = opt.leastsq(func=residual, x0=np.array([2.5,.6]), Dfun=jac)\n",
    "print(minx[0])"
   ]
  },
  {
   "cell_type": "markdown",
   "metadata": {},
   "source": [
    "### Problem 5"
   ]
  },
  {
   "cell_type": "code",
   "execution_count": 7,
   "metadata": {},
   "outputs": [
    {
     "name": "stdout",
     "output_type": "stream",
     "text": [
      "The algorithm converged in 6 iterations.\n",
      "The minimizer is  [1.67729595 0.18474177 9.11885064]\n"
     ]
    },
    {
     "data": {
      "image/png": "[encoded data removed]",
      "text/plain": [
       "<Figure size 432x288 with 1 Axes>"
      ]
     },
     "metadata": {},
     "output_type": "display_data"
    }
   ],
   "source": [
    "T, y = np.load(\"population.npy\").T\n",
    "\n",
    "# Exponential model\n",
    "model = lambda x, t: x[0]*np.exp(x[1]*(t+x[2]))\n",
    "residual = lambda x: model(x, T) - y\n",
    "jac = lambda x: np.column_stack((np.exp(x[1]*(T+x[2])), x[0]*(T+x[2])*np.exp(x[1]*(T+x[2])), x[0]*x[1]*np.exp(x[1]*(T+x[2]))))\n",
    "x0 = np.array([1.5,.4,2.5])\n",
    "\n",
    "minx = opt.leastsq(func=residual, x0=x0, Dfun=jac)\n",
    "x_star = minx[0]\n",
    "\n",
    "if conv:\n",
    "    print(\"The algorithm converged in {} iterations.\".format(nit))\n",
    "    print(\"The minimizer is \", x_star)\n",
    "else:\n",
    "    print(\"The algorithm didn't converge.\")\n",
    "\n",
    "dom = np.linspace(0, 15, 200)\n",
    "plt.plot(T, y, '*', label=\"Observed data\")\n",
    "plt.plot(dom, model(x_star, dom), label=\"Fitted data\")\n",
    "plt.title(\"Exponential model\")\n",
    "plt.legend()\n",
    "plt.show()\n"
   ]
  },
  {
   "cell_type": "code",
   "execution_count": 8,
   "metadata": {},
   "outputs": [
    {
     "name": "stdout",
     "output_type": "stream",
     "text": [
      "The algorithm converged in 6 iterations.\n",
      "The minimizer is  [170.71506221   0.31723848 -11.50539991]\n"
     ]
    },
    {
     "data": {
      "image/png": "[encoded data removed]",
      "text/plain": [
       "<Figure size 432x288 with 1 Axes>"
      ]
     },
     "metadata": {},
     "output_type": "display_data"
    }
   ],
   "source": [
    "# Logistic model\n",
    "model = lambda x, t: x[0]/(1+np.exp(-x[1]*(t+x[2])))\n",
    "residual = lambda x: model(x, T) - y\n",
    "jac = lambda x: np.column_stack((1/(1+np.exp(-x[1]*(T+x[2]))), - x[0]*(-T-x[2])*np.exp(x[1]*(T+x[2]))/(1+np.exp(-x[1]*(T+x[2])))**2, x[0]*x[1]*np.exp(x[1]*(T+x[2]))/(1+np.exp(-x[1]*(T+x[2])))**2))\n",
    "x0 = np.array([150,.4,-15])\n",
    "\n",
    "minx = opt.leastsq(func=residual, x0=x0, Dfun=jac)\n",
    "x_star = minx[0]\n",
    "\n",
    "if conv:\n",
    "    print(\"The algorithm converged in {} iterations.\".format(nit))\n",
    "    print(\"The minimizer is \", x_star)\n",
    "else:\n",
    "    print(\"The algorithm didn't converge.\")\n",
    "\n",
    "dom = np.linspace(0, 15, 200)\n",
    "plt.plot(T, y, '*', label=\"Observed data\")\n",
    "plt.plot(dom, model(x_star, dom), label=\"Fitted data\")\n",
    "plt.title(\"Logistic model\")\n",
    "plt.show()"
   ]
  }
 ],
 "metadata": {
  "kernelspec": {
   "display_name": "Python 3",
   "language": "python",
   "name": "python3"
  },
  "language_info": {
   "codemirror_mode": {
    "name": "ipython",
    "version": 3
   },
   "file_extension": ".py",
   "mimetype": "text/x-python",
   "name": "python",
   "nbconvert_exporter": "python",
   "pygments_lexer": "ipython3",
   "version": "3.6.3"
  }
 },
 "nbformat": 4,
 "nbformat_minor": 2
}
